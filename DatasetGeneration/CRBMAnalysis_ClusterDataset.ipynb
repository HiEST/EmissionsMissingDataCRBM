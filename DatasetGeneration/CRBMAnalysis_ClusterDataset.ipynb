{
 "cells": [
  {
   "cell_type": "markdown",
   "metadata": {},
   "source": [
    "# Environment setup\n",
    "\n",
    "Here we force OpenMP and OpenBLAS to use n_cores threads"
   ]
  },
  {
   "cell_type": "code",
   "execution_count": null,
   "metadata": {},
   "outputs": [],
   "source": [
    "n_cores <- 40"
   ]
  },
  {
   "cell_type": "code",
   "execution_count": null,
   "metadata": {
    "lines_to_next_cell": 2
   },
   "outputs": [],
   "source": [
    "Sys.setenv(OPENBLAS_NUM_THREADS=n_cores, OMP_NUM_THREADS=n_cores)"
   ]
  },
  {
   "cell_type": "markdown",
   "metadata": {
    "lines_to_next_cell": 0
   },
   "source": [
    "Load package"
   ]
  },
  {
   "cell_type": "code",
   "execution_count": null,
   "metadata": {},
   "outputs": [],
   "source": [
    "library(rrbm)\n",
    "library(parallel)"
   ]
  },
  {
   "cell_type": "markdown",
   "metadata": {
    "lines_to_next_cell": 0
   },
   "source": [
    "Load auxiliary functions used for this notebook. They are in a different R\n",
    "script for the sake of readability "
   ]
  },
  {
   "cell_type": "code",
   "execution_count": null,
   "metadata": {
    "lines_to_next_cell": 2
   },
   "outputs": [],
   "source": [
    "source(\"CRBM-tools.r\")"
   ]
  },
  {
   "cell_type": "markdown",
   "metadata": {},
   "source": [
    "# Parameters setup"
   ]
  },
  {
   "cell_type": "code",
   "execution_count": null,
   "metadata": {},
   "outputs": [],
   "source": [
    "id_var <- \"imo\"\n",
    "reqcols <- c(\"rotationGPS\",\"sog\",\"bathymetry3\")\n",
    "plot_labels <-c(\"Rotation GPS\",\"Speed Over Ground\", \"3-leveled Bathymetry\")#"
   ]
  },
  {
   "cell_type": "markdown",
   "metadata": {
    "lines_to_next_cell": 0
   },
   "source": [
    "CRBM Params"
   ]
  },
  {
   "cell_type": "code",
   "execution_count": null,
   "metadata": {
    "lines_to_next_cell": 2
   },
   "outputs": [],
   "source": [
    "delay = 20\n",
    "n_hidden = 30\n",
    "training_epochs = 300"
   ]
  },
  {
   "cell_type": "markdown",
   "metadata": {
    "lines_to_next_cell": 0
   },
   "source": [
    "Data and result paths. Change these paths with the location of your data and the wanted result path."
   ]
  },
  {
   "cell_type": "code",
   "execution_count": null,
   "metadata": {},
   "outputs": [],
   "source": [
    "dataPath <- \"\"\n",
    "resultPath <- \"Results/\"\n",
    "dataFile <- file.path(dataPath,\"AISPreprocessedData.data\")"
   ]
  },
  {
   "cell_type": "code",
   "execution_count": null,
   "metadata": {},
   "outputs": [],
   "source": [
    "today <- as.character(Sys.Date())\n",
    "cols <- paste(reqcols,collapse=\"-\")\n",
    "(crbmSavePath <- paste(resultPath,today,\"-v2-shipcrbm\",\"-\",cols,\"-\",\"d_\",delay,\"-h_\",n_hidden,\"-t_\",training_epochs,\".data\",sep=\"\"))"
   ]
  },
  {
   "cell_type": "markdown",
   "metadata": {},
   "source": [
    "# Data preparation \n",
    "\n",
    "Dataframe to time series:\n",
    "\n",
    "* Each \"id_exec\" is a time serie.\n",
    "* Each \"id_exec\" at \"time t\" has resource usages (dimensions)\n",
    "\n",
    "After getting the time series, split them into Training and Test"
   ]
  },
  {
   "cell_type": "code",
   "execution_count": null,
   "metadata": {
    "lines_to_next_cell": 2
   },
   "outputs": [],
   "source": [
    "load(dataFile); dataset <- ships\n",
    "targets <- unique(dataset[,id_var]);"
   ]
  },
  {
   "cell_type": "markdown",
   "metadata": {},
   "source": [
    "## Train-Test split\n",
    "\n",
    "Random seed set to get repetible partitioning between train and test\n",
    "Notice that we split by series, not by samples! The individuals in this\n",
    "problem are the series, not each sample. 66% Training, 33% Test"
   ]
  },
  {
   "cell_type": "code",
   "execution_count": null,
   "metadata": {},
   "outputs": [],
   "source": [
    "set.seed(1337) \n",
    "all_idx <- 1:length(targets);\n",
    "tr_idx <- sample(all_idx, ceiling(length(all_idx) * 0.66));\n",
    "tt_idx <- all_idx[!all_idx %in% tr_idx];\n",
    "tr_targets <- targets[tr_idx];\n",
    "tt_targets <- targets[tt_idx];"
   ]
  },
  {
   "cell_type": "markdown",
   "metadata": {},
   "source": [
    "## Generate Data for training and test\n",
    "In order to use our dataset with the *rrbm package*, we will modify the data\n",
    "structure for conveniende:\n",
    "\n",
    "generate_data() return a list of series:\n",
    "* list_batchdata : List of normalized batchdatas\n",
    "* list_seqlen : List of seqlens for batchdata 'i'\n",
    "* list_data_mean : List of means for each dimension in batchdata 'i'\n",
    "* list_data_std : List of standard deviations for each dimension in batchdata 'i'"
   ]
  },
  {
   "cell_type": "code",
   "execution_count": null,
   "metadata": {},
   "outputs": [],
   "source": [
    "series_train <- generate_data(tr_targets, reqcols);\n",
    "series_test <- generate_data(tt_targets, reqcols);"
   ]
  },
  {
   "cell_type": "markdown",
   "metadata": {
    "lines_to_next_cell": 0
   },
   "source": [
    "Then we append all the data by series"
   ]
  },
  {
   "cell_type": "code",
   "execution_count": null,
   "metadata": {},
   "outputs": [],
   "source": [
    "batchdata <- do.call(\"rbind\",series_train$batchdata)"
   ]
  },
  {
   "cell_type": "markdown",
   "metadata": {},
   "source": [
    "# CRBM Training and validation"
   ]
  },
  {
   "cell_type": "markdown",
   "metadata": {},
   "source": [
    "## Training"
   ]
  },
  {
   "cell_type": "code",
   "execution_count": null,
   "metadata": {},
   "outputs": [],
   "source": [
    "crbm <- train.crbm(batchdata, series_train$seqlen,\n",
    "      learning_rate = 1e-6,\n",
    "      training_epochs = training_epochs,\n",
    "      batch_size = 200,\n",
    "      n_hidden = n_hidden, \n",
    "      delay = delay,\n",
    "      momentum = 0.1\n",
    ");"
   ]
  },
  {
   "cell_type": "markdown",
   "metadata": {},
   "source": [
    "Save CRBM result\n",
    "\n",
    "In order to avoid recomputing, we save the CRBM as a checkpoint of the whole\n",
    "problem."
   ]
  },
  {
   "cell_type": "code",
   "execution_count": null,
   "metadata": {},
   "outputs": [],
   "source": [
    "save(crbm,file=crbmSavePath)"
   ]
  },
  {
   "cell_type": "code",
   "execution_count": null,
   "metadata": {},
   "outputs": [],
   "source": [
    "crbmSavePath"
   ]
  },
  {
   "cell_type": "markdown",
   "metadata": {},
   "source": [
    "## Validate the training process using series generation\n",
    "\n",
    "Here we will validate the CRBM training in two ways: with series generation\n",
    "and simulation. Each concept will be introduced in its corresponding section."
   ]
  },
  {
   "cell_type": "markdown",
   "metadata": {
    "lines_to_next_cell": 2
   },
   "source": [
    "### Generate series from $delay+1$ samples\n",
    "\n",
    "In this step what we will do is to produce a series giving only the first\n",
    "$delay+1$ samples, a data point plus its history, and produce a series with \n",
    "the same length as the original series. Then we will calculate the difference\n",
    "between the two series with error functions. "
   ]
  },
  {
   "cell_type": "code",
   "execution_count": null,
   "metadata": {
    "lines_to_next_cell": 2
   },
   "outputs": [],
   "source": [
    "list_gen_series <- predict_series_crbm(crbm, series_train, n_threads=detectCores()-1);\n",
    "list_gen_series_test <- predict_series_crbm(crbm, series_test, n_threads=detectCores()-1);"
   ]
  },
  {
   "cell_type": "code",
   "execution_count": null,
   "metadata": {},
   "outputs": [],
   "source": [
    "plot_gen_series(series_train, list_gen_series, 2, crbm$delay, plot_labels);"
   ]
  },
  {
   "cell_type": "code",
   "execution_count": null,
   "metadata": {},
   "outputs": [],
   "source": [
    "plot_gen_series(series_test, list_gen_series_test,8, crbm$delay, plot_labels);"
   ]
  },
  {
   "cell_type": "markdown",
   "metadata": {},
   "source": [
    "### Evaluate error"
   ]
  },
  {
   "cell_type": "code",
   "execution_count": null,
   "metadata": {},
   "outputs": [],
   "source": [
    "eval.error(series_train, list_gen_series);"
   ]
  },
  {
   "cell_type": "code",
   "execution_count": null,
   "metadata": {
    "lines_to_next_cell": 2
   },
   "outputs": [],
   "source": [
    "eval.error(series_test, list_gen_series_test);"
   ]
  },
  {
   "cell_type": "markdown",
   "metadata": {},
   "source": [
    "## Validate the training process with series simulation\n",
    "\n",
    "Now instead of using just the first window of data + history we use a sliding\n",
    "window (1 step window with size delay+1) to forecast the series. This is\n",
    "called **simulation**."
   ]
  },
  {
   "cell_type": "markdown",
   "metadata": {
    "lines_to_next_cell": 0
   },
   "source": [
    "First we test it with one series."
   ]
  },
  {
   "cell_type": "code",
   "execution_count": null,
   "metadata": {
    "scrolled": true
   },
   "outputs": [],
   "source": [
    "sim <- predict_simulation(crbm, series_test$batchdata[[4]])\n",
    "plot_simulation(sim)"
   ]
  },
  {
   "cell_type": "markdown",
   "metadata": {
    "lines_to_next_cell": 0
   },
   "source": [
    "Now that we have seen how it works, we will do it for every series.\n",
    "\n",
    "**WARNING**: Do not try to parallelize the following code. It already uses BLAS, which parallelizes to some extent. If you try to use parallel, it will crash."
   ]
  },
  {
   "cell_type": "code",
   "execution_count": null,
   "metadata": {
    "scrolled": true
   },
   "outputs": [],
   "source": [
    "train.simulations <- lapply(series_train$batchdata, function(data) predict_simulation(crbm, data));"
   ]
  },
  {
   "cell_type": "markdown",
   "metadata": {},
   "source": [
    "Errors will be NA"
   ]
  },
  {
   "cell_type": "code",
   "execution_count": null,
   "metadata": {
    "scrolled": true
   },
   "outputs": [],
   "source": [
    "test.simulations <- lapply(series_test$batchdata, function(data) predict_simulation(crbm, data));"
   ]
  },
  {
   "cell_type": "code",
   "execution_count": null,
   "metadata": {
    "scrolled": true
   },
   "outputs": [],
   "source": [
    "train.error.simulation <- error_simulation(train.simulations)"
   ]
  },
  {
   "cell_type": "code",
   "execution_count": null,
   "metadata": {},
   "outputs": [],
   "source": [
    "train.error.simulation"
   ]
  },
  {
   "cell_type": "code",
   "execution_count": null,
   "metadata": {},
   "outputs": [],
   "source": [
    "cbind(\n",
    "    mean=colMeans(train.error.simulation, na.rm=T),\n",
    "    sd=apply(train.error.simulation,2, sd, na.rm=T)\n",
    ")"
   ]
  },
  {
   "cell_type": "code",
   "execution_count": null,
   "metadata": {},
   "outputs": [],
   "source": [
    "test.error.simulation <- error_simulation(test.simulations)"
   ]
  },
  {
   "cell_type": "code",
   "execution_count": null,
   "metadata": {},
   "outputs": [],
   "source": [
    "train.error.simulation"
   ]
  },
  {
   "cell_type": "code",
   "execution_count": null,
   "metadata": {},
   "outputs": [],
   "source": [
    "cbind(\n",
    "    mean=colMeans(train.error.simulation, na.rm=T),\n",
    "    sd=apply(train.error.simulation,2, sd, na.rm=T)\n",
    ")"
   ]
  },
  {
   "cell_type": "code",
   "execution_count": null,
   "metadata": {},
   "outputs": [],
   "source": [
    "today <- as.character(Sys.Date())\n",
    "cols <- paste(reqcols,collapse=\"-\")\n",
    "(simSavePath <- paste(resultPath,today,\"-shipcrbm-simulations-\",cols,\"-\",\"d_\",delay,\"-h_\",n_hidden,\"-t_\",training_epochs,\".data\",sep=\"\"))\n",
    "save(train.simulations,test.simulations,train.error.simulation,test.error.simulation, file=simSavePath)"
   ]
  },
  {
   "cell_type": "markdown",
   "metadata": {},
   "source": [
    "# Generating data for clustering"
   ]
  },
  {
   "cell_type": "markdown",
   "metadata": {},
   "source": [
    "## Training simulation"
   ]
  },
  {
   "cell_type": "code",
   "execution_count": null,
   "metadata": {},
   "outputs": [],
   "source": [
    "activations.training <- lapply(train.simulations, function(x) x$activation)"
   ]
  },
  {
   "cell_type": "code",
   "execution_count": null,
   "metadata": {},
   "outputs": [],
   "source": [
    "indices.training <- c(1,sapply(activations.training,nrow))\n",
    "for (i in 2:length(indices.training)) {\n",
    "    indices.training[i] <- indices.training[i]+indices.training[i-1]\n",
    "}"
   ]
  },
  {
   "cell_type": "code",
   "execution_count": null,
   "metadata": {},
   "outputs": [],
   "source": [
    "activations.training <- do.call(\"rbind\", activations.training)                                                     "
   ]
  },
  {
   "cell_type": "markdown",
   "metadata": {},
   "source": [
    "## Testing simulation"
   ]
  },
  {
   "cell_type": "code",
   "execution_count": null,
   "metadata": {},
   "outputs": [],
   "source": [
    "activations.test <- lapply(test.simulations, function(x) x$activation)"
   ]
  },
  {
   "cell_type": "code",
   "execution_count": null,
   "metadata": {},
   "outputs": [],
   "source": [
    "indices.test <- c(1,sapply(activations.test,nrow))\n",
    "for (i in 2:length(indices.test)) {\n",
    "    indices.test[i] <- indices.test[i]+indices.test[i-1]\n",
    "}"
   ]
  },
  {
   "cell_type": "code",
   "execution_count": null,
   "metadata": {},
   "outputs": [],
   "source": [
    "activations.test <- do.call(\"rbind\", activations.test)                                                     "
   ]
  },
  {
   "cell_type": "markdown",
   "metadata": {},
   "source": [
    "# Clustering"
   ]
  },
  {
   "cell_type": "code",
   "execution_count": null,
   "metadata": {},
   "outputs": [],
   "source": [
    "clusterK <- 5\n",
    "set.seed(1337)\n",
    "kc <- kmeans(activations.training, clusterK);"
   ]
  },
  {
   "cell_type": "code",
   "execution_count": null,
   "metadata": {},
   "outputs": [],
   "source": [
    "kc$withinss\n",
    "kc$betweenss"
   ]
  },
  {
   "cell_type": "code",
   "execution_count": null,
   "metadata": {
    "ExecuteTime": {
     "end_time": "2017-05-23T12:29:29.034311",
     "start_time": "2017-05-23T10:29:22.021Z"
    }
   },
   "outputs": [],
   "source": [
    "cl <- makeCluster(detectCores()-1, type=\"FORK\");\n",
    "phase <- parApply(cl, activations.test, 1, closest.cluster,kc=kc);\n",
    "stopCluster(cl);"
   ]
  },
  {
   "cell_type": "code",
   "execution_count": null,
   "metadata": {},
   "outputs": [],
   "source": [
    "id <- 34\n",
    "pclust <- detect_phases_test(id, indices.test, kc, phase);"
   ]
  },
  {
   "cell_type": "code",
   "execution_count": null,
   "metadata": {},
   "outputs": [],
   "source": [
    "#plot\n",
    "ship <- cbind(dataset[which(dataset[,id_var] == tt_targets[id]),],pclust)\n",
    "pal <- rainbow(clusterK)\n",
    "par(mar=c(1,1,1,1), mfrow = c(1,1));\n",
    "plot(ship$latitude, ship$longitude, col=pal[pclust], pch=16)"
   ]
  },
  {
   "cell_type": "markdown",
   "metadata": {},
   "source": [
    "# Create data from clustering"
   ]
  },
  {
   "cell_type": "code",
   "execution_count": null,
   "metadata": {},
   "outputs": [],
   "source": [
    "#Train\n",
    "cl <- makeCluster(n_cores, type = \"SOCK\")\n",
    "clusterExport(cl, varlist = c(\"detect_phases_series\", \"closest.cluster\",\n",
    "                              \"dataset\",\"id_var\"))\n",
    "d_tr <- parLapply(cl,1:length(tr_targets), produce_data_phases, crbm=crbm, series=series_train,\n",
    "                  indices=indices.training, kc=kc,\n",
    "                  activations = activations.training,\n",
    "                  t_targets = tr_targets)\n",
    "stopCluster(cl)"
   ]
  },
  {
   "cell_type": "code",
   "execution_count": null,
   "metadata": {},
   "outputs": [],
   "source": [
    "names(d_tr) <- tr_targets"
   ]
  },
  {
   "cell_type": "code",
   "execution_count": null,
   "metadata": {},
   "outputs": [],
   "source": [
    "#Test\n",
    "cl <- makeCluster(n_cores, type = \"SOCK\")\n",
    "clusterExport(cl, varlist = c(\"detect_phases_series\", \"closest.cluster\",                    \n",
    "                              \"dataset\",\"id_var\"))\n",
    "d_tt <- parLapply(cl,1:length(tt_targets), produce_data_phases, crbm=crbm, series=series_test,\n",
    "                  indices=indices.test, kc=kc,\n",
    "                  activations = activations.test,\n",
    "                  t_targets = tt_targets)\n",
    "stopCluster(cl)"
   ]
  },
  {
   "cell_type": "code",
   "execution_count": null,
   "metadata": {},
   "outputs": [],
   "source": [
    "str(d_tt)"
   ]
  },
  {
   "cell_type": "code",
   "execution_count": null,
   "metadata": {},
   "outputs": [],
   "source": [
    "names(tt_targets) <- tt_targets"
   ]
  },
  {
   "cell_type": "code",
   "execution_count": null,
   "metadata": {
    "ExecuteTime": {
     "start_time": "2017-05-23T10:37:01.590Z"
    }
   },
   "outputs": [],
   "source": [
    "ships_train <- do.call(\"rbind\", d_tr) #Merging data\n",
    "ships_test <- do.call(\"rbind\", d_tt) #Merging data"
   ]
  },
  {
   "cell_type": "code",
   "execution_count": null,
   "metadata": {
    "ExecuteTime": {
     "end_time": "2017-05-23T12:47:18.703637",
     "start_time": "2017-05-23T10:47:18.631Z"
    }
   },
   "outputs": [],
   "source": [
    "str(ships_train)\n",
    "str(ships_test)"
   ]
  },
  {
   "cell_type": "code",
   "execution_count": null,
   "metadata": {},
   "outputs": [],
   "source": [
    "kmeansSavePath <- paste(resultPath,\"kmeansDataset/\",today,\"-kmeansresult\",\"-\",cols,  \"-k_\",clusterK, \"-\",\"d_\",delay,\"-h_\",n_hidden,\"-t_\",training_epochs,sep=\"\");"
   ]
  },
  {
   "cell_type": "code",
   "execution_count": null,
   "metadata": {},
   "outputs": [],
   "source": [
    "write.table(ships_train, file=paste(kmeansSavePath,\"-train.csv\", sep=\"\"), sep=\";\", row.names=F)\n",
    "write.table(ships_test, file=paste(kmeansSavePath,\"-test.csv\", sep=\"\"), sep=\";\", row.names=F)"
   ]
  }
 ],
 "metadata": {
  "jupytext": {
   "formats": "ipynb,r:spin",
   "text_representation": {
    "extension": ".r",
    "format_name": "spin",
    "format_version": "1.0",
    "jupytext_version": "0.8.6"
   }
  },
  "kernelspec": {
   "display_name": "R",
   "language": "R",
   "name": "ir"
  },
  "language_info": {
   "codemirror_mode": "r",
   "file_extension": ".r",
   "mimetype": "text/x-r-source",
   "name": "R",
   "pygments_lexer": "r",
   "version": "3.5.2"
  },
  "notify_time": "5",
  "toc": {
   "colors": {
    "hover_highlight": "#DAA520",
    "running_highlight": "#FF0000",
    "selected_highlight": "#FFD700"
   },
   "moveMenuLeft": true,
   "nav_menu": {
    "height": "332px",
    "width": "252px"
   },
   "navigate_menu": true,
   "number_sections": true,
   "sideBar": true,
   "threshold": 4,
   "toc_cell": false,
   "toc_position": {
    "height": "1222px",
    "left": "0px",
    "right": "844px",
    "top": "139px",
    "width": "234px"
   },
   "toc_section_display": "block",
   "toc_window_display": true,
   "widenNotebook": false
  }
 },
 "nbformat": 4,
 "nbformat_minor": 2
}
