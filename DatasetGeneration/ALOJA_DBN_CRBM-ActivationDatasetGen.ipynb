{
 "cells": [
  {
   "cell_type": "markdown",
   "metadata": {},
   "source": [
    "This file provides an script version to create the activations dataset using script arguments."
   ]
  },
  {
   "cell_type": "markdown",
   "metadata": {},
   "source": [
    "# Environment setup\n",
    "\n",
    "Here we force OpenMP and OpenBLAS to use n_cores threads"
   ]
  },
  {
   "cell_type": "code",
   "execution_count": null,
   "metadata": {
    "lines_to_next_cell": 2
   },
   "outputs": [],
   "source": [
    "Sys.setenv(OPENBLAS_NUM_THREADS=n_cores, OMP_NUM_THREADS=n_cores)"
   ]
  },
  {
   "cell_type": "markdown",
   "metadata": {
    "lines_to_next_cell": 0
   },
   "source": [
    "The following packages are requiered for this to work. RRBM package can be found here: https://github.com/josepllberral/machine-learning-tools"
   ]
  },
  {
   "cell_type": "code",
   "execution_count": null,
   "metadata": {},
   "outputs": [],
   "source": [
    "library(rrbm)\n",
    "library(parallel)\n",
    "library(optparse)"
   ]
  },
  {
   "cell_type": "markdown",
   "metadata": {
    "lines_to_next_cell": 0
   },
   "source": [
    "Load auxiliary functions used for this notebook. They are in a different R\n",
    "script for the sake of readability "
   ]
  },
  {
   "cell_type": "code",
   "execution_count": null,
   "metadata": {},
   "outputs": [],
   "source": [
    "source(\"CRBM-tools.r\")"
   ]
  },
  {
   "cell_type": "code",
   "execution_count": null,
   "metadata": {},
   "outputs": [],
   "source": [
    "ihsPath <- \"IHSTestData.txt\""
   ]
  },
  {
   "cell_type": "code",
   "execution_count": null,
   "metadata": {},
   "outputs": [],
   "source": [
    "option_list = list(\n",
    "    make_option(\n",
    "               c(\"-n\", \"--n_hidden\"), type= \"numeric\", default=10,\n",
    "               help=\"Number of hidden units. Default 10.\"\n",
    "    ),\n",
    "    make_option(\n",
    "               c(\"-d\", \"--delay\"), type= \"numeric\", default=20,\n",
    "               help=\"Delay. Number of samples to include in CRBMs window. Default 20\"\n",
    "    ),\n",
    "    make_option(\n",
    "               c(\"-e\", \"--training_epochs\"), type= \"numeric\", default=300,\n",
    "               help=\"Number of training epochs. Default 300.\"\n",
    "    ),\n",
    "    make_option(\n",
    "               c(\"-b\", \"--batch_size\"), type= \"numeric\", default=200,\n",
    "               help=\"Batchdata size. Default 200.\"\n",
    "    ),   \n",
    "    make_option(\n",
    "               c(\"-m\", \"--momentum\"), type= \"numeric\", default=0.1,\n",
    "               help=\"Momentum for CRBM. Default 0.1.\"\n",
    "    ),\n",
    "    make_option(\n",
    "               c(\"-l\", \"--learning_rate\"), type= \"numeric\", default=1e-6,\n",
    "               help=\"Learning rate for CRBM. Default 1e-6.\"\n",
    "    ),\n",
    "    make_option(\n",
    "               c(\"-i\", \"--data_file\"), type= \"character\", default=\"AISPreprocessedData.data\",\n",
    "               help=\"Learning rate for CRBM. Default 1e-6.\", dest=\"dataFile\"\n",
    "    ),  \n",
    "    make_option(\n",
    "               c(\"-f\", \"--fast_test\"), type= \"numeric\", default=-1,\n",
    "               help=\"Whether to do a fast test of the script using the N random series or not\"\n",
    "    ),\n",
    "    make_option(\n",
    "               c(\"-o\", \"--output\"), type= \"character\", default=\"\",\n",
    "               help=\"Output file for dataset. Default uses date and parameters to generate filename.\"\n",
    "    ),\n",
    "    make_option(\n",
    "               c(\"--crbm_output\"), type= \"character\", default=\"\",\n",
    "               help=\"Output file for CRBM. Default uses date and parameters to generate filename.\"\n",
    "    )\n",
    ")"
   ]
  },
  {
   "cell_type": "markdown",
   "metadata": {},
   "source": [
    "CRBM Params"
   ]
  },
  {
   "cell_type": "code",
   "execution_count": null,
   "metadata": {},
   "outputs": [],
   "source": [
    "args = commandArgs(trailingOnly=TRUE)"
   ]
  },
  {
   "cell_type": "code",
   "execution_count": null,
   "metadata": {},
   "outputs": [],
   "source": [
    "# If there is only one parameter, this is being executed in Jupyter with IRKernel.\n",
    "# In this case you should change --data_file default data path\n",
    "if (length(args) == 1) {\n",
    "    args = c()\n",
    "}"
   ]
  },
  {
   "cell_type": "code",
   "execution_count": null,
   "metadata": {},
   "outputs": [],
   "source": [
    "opt_parser = OptionParser(option_list=option_list)\n",
    "opt = parse_args(opt_parser, args, print_help_and_exit=T)"
   ]
  },
  {
   "cell_type": "code",
   "execution_count": null,
   "metadata": {},
   "outputs": [],
   "source": [
    "opt"
   ]
  },
  {
   "cell_type": "code",
   "execution_count": null,
   "metadata": {},
   "outputs": [],
   "source": [
    "attach(opt)"
   ]
  },
  {
   "cell_type": "markdown",
   "metadata": {},
   "source": [
    "Create folders for output"
   ]
  },
  {
   "cell_type": "code",
   "execution_count": null,
   "metadata": {},
   "outputs": [],
   "source": [
    "dir.create(path = dirname(output))\n",
    "dir.create(path = dirname(crbm_output))"
   ]
  },
  {
   "cell_type": "markdown",
   "metadata": {},
   "source": [
    "# Parameters setup"
   ]
  },
  {
   "cell_type": "markdown",
   "metadata": {},
   "source": [
    "Select variables"
   ]
  },
  {
   "cell_type": "code",
   "execution_count": null,
   "metadata": {},
   "outputs": [],
   "source": [
    "id_var <- \"imo\"\n",
    "reqcols <- c(\"rotationGPS\",\"sog\",\"bathymetry3\")\n",
    "plot_labels <-c(\"Rotation GPS\",\"Speed Over Ground\", \"3-leveled Bathymetry\")#"
   ]
  },
  {
   "cell_type": "markdown",
   "metadata": {
    "lines_to_next_cell": 0
   },
   "source": [
    "Data and result paths"
   ]
  },
  {
   "cell_type": "code",
   "execution_count": null,
   "metadata": {},
   "outputs": [],
   "source": [
    "today <- as.character(Sys.Date())\n",
    "cols <- paste(reqcols,collapse=\"-\")"
   ]
  },
  {
   "cell_type": "code",
   "execution_count": null,
   "metadata": {},
   "outputs": [],
   "source": [
    "# You may need to change to somewhere you want the results if you're using Jupyter\n",
    "if (crbm_output == \"\") {\n",
    "    print(\"CRBM save path not set. Setting default:\")\n",
    "    (crbm_output <- paste(\"Results/\",today,\"-shipcrbm\",\"-\",cols,\"-\",\"d_\",delay,\"-h_\",n_hidden,\"-t_\",training_epochs,\".Rdata\",sep=\"\"))\n",
    "} "
   ]
  },
  {
   "cell_type": "markdown",
   "metadata": {},
   "source": [
    "# Data preparation \n",
    "\n",
    "Dataframe to time series:\n",
    "\n",
    "* Each \"id_exec\" is a time serie.\n",
    "* Each \"id_exec\" at \"time t\" has resource usages (dimensions)\n",
    "\n",
    "After getting the time series, split them into Training and Test"
   ]
  },
  {
   "cell_type": "code",
   "execution_count": null,
   "metadata": {
    "lines_to_next_cell": 2
   },
   "outputs": [],
   "source": [
    "load(dataFile); dataset <- ships\n",
    "targets <- unique(dataset[,id_var]);\n",
    "if (fast_test != -1) {\n",
    "    cat(\"Test mode. Limiting the data to the\", fast_test, \"random series\\n\")\n",
    "    set.seed(1337)\n",
    "    targets <- sample(targets, size=fast_test)\n",
    "\n",
    "    crbm_output <- paste(crbm_output, \".test\", sep=\"\")\n",
    "    output <- paste(output, \".test\", sep=\"\")\n",
    "}"
   ]
  },
  {
   "cell_type": "markdown",
   "metadata": {},
   "source": [
    "## Train-Test split\n",
    "\n",
    "Random seed set to get repetible partitioning between train and test\n",
    "Notice that we split by series, not by samples! The individuals in this\n",
    "problem are the series, not each sample. Training split contains 66% and test split 34%."
   ]
  },
  {
   "cell_type": "code",
   "execution_count": null,
   "metadata": {},
   "outputs": [],
   "source": [
    "set.seed(1337) \n",
    "all_idx <- 1:length(targets);\n",
    "tr_idx <- sample(all_idx, ceiling(length(all_idx) * 0.66));\n",
    "tt_idx <- all_idx[!all_idx %in% tr_idx];\n",
    "tr_targets <- targets[tr_idx];\n",
    "tt_targets <- targets[tt_idx];"
   ]
  },
  {
   "cell_type": "markdown",
   "metadata": {},
   "source": [
    "## Generate Data for training and test\n",
    "In order to use our dataset with the *rrbm package*, we will modify the data\n",
    "structure for conveniende:\n",
    "\n",
    "generate_data() return a list of series:\n",
    "* list_batchdata : List of normalized batchdatas\n",
    "* list_seqlen : List of seqlens for batchdata 'i'\n",
    "* list_data_mean : List of means for each dimension in batchdata 'i'\n",
    "* list_data_std : List of standard deviations for each dimension in batchdata 'i'"
   ]
  },
  {
   "cell_type": "code",
   "execution_count": null,
   "metadata": {},
   "outputs": [],
   "source": [
    "series_train <- generate_data(tr_targets, reqcols);\n",
    "series_test <- generate_data(tt_targets, reqcols);"
   ]
  },
  {
   "cell_type": "markdown",
   "metadata": {
    "lines_to_next_cell": 0
   },
   "source": [
    "Then we append all the data by series"
   ]
  },
  {
   "cell_type": "code",
   "execution_count": null,
   "metadata": {},
   "outputs": [],
   "source": [
    "batchdata <- do.call(\"rbind\",series_train$batchdata)"
   ]
  },
  {
   "cell_type": "markdown",
   "metadata": {},
   "source": [
    "# CRBM Training and validation"
   ]
  },
  {
   "cell_type": "markdown",
   "metadata": {
    "lines_to_next_cell": 2
   },
   "source": [
    "## Training"
   ]
  },
  {
   "cell_type": "code",
   "execution_count": null,
   "metadata": {},
   "outputs": [],
   "source": [
    "if (!file.exists(crbm_output)) { \n",
    "    crbm <- train.crbm(batchdata, series_train$seqlen,\n",
    "          learning_rate = learning_rate,\n",
    "          training_epochs = training_epochs, \n",
    "          batch_size = batch_size,\n",
    "          n_hidden = n_hidden, \n",
    "          delay = delay,\n",
    "          momentum = momentum\n",
    "    );\n",
    "\n",
    "    # Save CRBM result\n",
    "    #\n",
    "    # In order to avoid recomputing, we save the CRBM as a checkpoint of the whole\n",
    "    # problem.\n",
    "\n",
    "    save(crbm,file=crbm_output)\n",
    "} else {\n",
    "    print(\"Model exists. Loading it...\")\n",
    "    load(crbm_output)\n",
    "}"
   ]
  },
  {
   "cell_type": "markdown",
   "metadata": {},
   "source": [
    "# Create Activations dataset"
   ]
  },
  {
   "cell_type": "code",
   "execution_count": null,
   "metadata": {},
   "outputs": [],
   "source": [
    "print(\"Generating activations\")"
   ]
  },
  {
   "cell_type": "code",
   "execution_count": null,
   "metadata": {},
   "outputs": [],
   "source": [
    "train.simulations <- lapply(series_train$batchdata, function(data) predict_simulation(crbm, data));\n",
    "test.simulations <- lapply(series_test$batchdata, function(data) predict_simulation(crbm, data));"
   ]
  },
  {
   "cell_type": "code",
   "execution_count": null,
   "metadata": {},
   "outputs": [],
   "source": [
    "# Activations training\n",
    "activations.training <- lapply(train.simulations, function(x) x$activation)\n",
    "indices.training <- c(1,sapply(activations.training,nrow))\n",
    "for (i in 2:length(indices.training)) {\n",
    "    indices.training[i] <- indices.training[i]+indices.training[i-1]\n",
    "}\n",
    "activations.training <- do.call(\"rbind\", activations.training)                                                     "
   ]
  },
  {
   "cell_type": "code",
   "execution_count": null,
   "metadata": {},
   "outputs": [],
   "source": [
    "# Activations test\n",
    "activations.test <- lapply(test.simulations, function(x) x$activation)\n",
    "indices.test <- c(1,sapply(activations.test,nrow))\n",
    "for (i in 2:length(indices.test)) {\n",
    "    indices.test[i] <- indices.test[i]+indices.test[i-1]\n",
    "}\n",
    "activations.test <- do.call(\"rbind\", activations.test)                                                     "
   ]
  },
  {
   "cell_type": "code",
   "execution_count": null,
   "metadata": {
    "lines_to_next_cell": 2
   },
   "outputs": [],
   "source": [
    "full_series_train <- generate_data_full(tr_targets, dataset);\n",
    "full_series_test <- generate_data_full(tt_targets, dataset);"
   ]
  },
  {
   "cell_type": "code",
   "execution_count": null,
   "metadata": {},
   "outputs": [],
   "source": [
    "reqcols <- c(\"imo\", \"fechahora\", \"type\")"
   ]
  },
  {
   "cell_type": "code",
   "execution_count": null,
   "metadata": {},
   "outputs": [],
   "source": [
    "data.activation.train <- merge_data(indices.training, full_series_train, activations.training, reqcols)\n",
    "data.activation.test <- merge_data(indices.test, full_series_test, activations.test, reqcols)"
   ]
  },
  {
   "cell_type": "code",
   "execution_count": null,
   "metadata": {},
   "outputs": [],
   "source": [
    "data.activation <- c(data.activation.train, data.activation.test)"
   ]
  },
  {
   "cell_type": "code",
   "execution_count": null,
   "metadata": {},
   "outputs": [],
   "source": [
    "data.activation.df <- do.call(\"rbind\", data.activation)"
   ]
  },
  {
   "cell_type": "markdown",
   "metadata": {},
   "source": [
    " # Activation dataset with Main Engine power\n"
   ]
  },
  {
   "cell_type": "code",
   "execution_count": null,
   "metadata": {},
   "outputs": [],
   "source": [
    "print(\"Appending Main Engine Power\")"
   ]
  },
  {
   "cell_type": "code",
   "execution_count": null,
   "metadata": {},
   "outputs": [],
   "source": [
    "ihs <- read.table(ihsPath, sep=\"\\t\", header=T)"
   ]
  },
  {
   "cell_type": "code",
   "execution_count": null,
   "metadata": {},
   "outputs": [],
   "source": [
    "ihsSub <- ihs[,c(\"LRIMOShipNO\",\"installedPowerME\")]\n",
    "ihsAct <- merge(ihsSub, data.activation.df, by.x=\"LRIMOShipNO\", by.y=\"imo\", all.y=T) # Right join"
   ]
  },
  {
   "cell_type": "code",
   "execution_count": null,
   "metadata": {},
   "outputs": [],
   "source": [
    "names(ihsAct)[names(ihsAct) == 'LRIMOShipNO'] <- 'imo'"
   ]
  },
  {
   "cell_type": "markdown",
   "metadata": {},
   "source": [
    "# Add original features"
   ]
  },
  {
   "cell_type": "code",
   "execution_count": null,
   "metadata": {
    "lines_to_next_cell": 2
   },
   "outputs": [],
   "source": [
    "print(\"Adding original features\")\n",
    "reqcols <- c(\"fechahora\",\"imo\",\"rotationGPS\",\"sog\",\"bathymetry3\")\n",
    "datacols <- c(\"rotationGPS\",\"sog\",\"bathymetry3\")\n",
    "ship_list <- split(dataset, dataset$imo)\n",
    "ship_list['0'] <- NULL # Remove Ships without IMO"
   ]
  },
  {
   "cell_type": "code",
   "execution_count": null,
   "metadata": {},
   "outputs": [],
   "source": [
    "cl <- makeCluster(n_cores)\n",
    "clusterExport(cl, varlist=c(\"generate_window_data\", \"datacols\"))\n",
    "historyDataset <- parLapply(cl,ship_list, fun=generate_window_data, width=opt$delay, datacols=datacols)\n",
    "stopCluster(cl)\n",
    "historyDataset <- do.call(\"rbind\",historyDataset)"
   ]
  },
  {
   "cell_type": "code",
   "execution_count": null,
   "metadata": {},
   "outputs": [],
   "source": [
    "complete_data <- merge(historyDataset, ihsAct)"
   ]
  },
  {
   "cell_type": "code",
   "execution_count": null,
   "metadata": {},
   "outputs": [],
   "source": [
    "if (opt$output == \"\") {\n",
    "    all_file_path <- paste(\"Datasets/\",today,\"-activation+original\",\"-\",cols, \"-\",\"d_\",delay,\"-h_\",n_hidden,\"-t_\",training_epochs, \".csv\",sep=\"\");\n",
    "} else {\n",
    "    all_file_path <- opt$output\n",
    "}"
   ]
  },
  {
   "cell_type": "code",
   "execution_count": null,
   "metadata": {
    "lines_to_next_cell": 2
   },
   "outputs": [],
   "source": [
    "all_file_path"
   ]
  },
  {
   "cell_type": "code",
   "execution_count": null,
   "metadata": {},
   "outputs": [],
   "source": [
    "print(\"Saving dataset\")"
   ]
  },
  {
   "cell_type": "code",
   "execution_count": null,
   "metadata": {},
   "outputs": [],
   "source": [
    "write.table(complete_data, file=all_file_path, sep=\",\", row.names=F)"
   ]
  },
  {
   "cell_type": "code",
   "execution_count": null,
   "metadata": {},
   "outputs": [],
   "source": [
    "colnames(historyDataset)"
   ]
  }
 ],
 "metadata": {
  "jupytext": {
   "formats": "ipynb,r:spin",
   "text_representation": {
    "extension": ".r",
    "format_name": "spin",
    "format_version": "1.0",
    "jupytext_version": "0.8.6"
   }
  },
  "kernelspec": {
   "display_name": "R",
   "language": "R",
   "name": "ir"
  },
  "language_info": {
   "codemirror_mode": "r",
   "file_extension": ".r",
   "mimetype": "text/x-r-source",
   "name": "R",
   "pygments_lexer": "r",
   "version": "3.5.2"
  }
 },
 "nbformat": 4,
 "nbformat_minor": 2
}
