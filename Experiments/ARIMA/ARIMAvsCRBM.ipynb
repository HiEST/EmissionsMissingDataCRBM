{
 "cells": [
  {
   "cell_type": "code",
   "execution_count": 1,
   "metadata": {
    "ExecuteTime": {
     "end_time": "2017-06-02T14:58:52.743020",
     "start_time": "2017-06-02T12:58:51.925Z"
    }
   },
   "outputs": [],
   "source": [
    "load(\"MARIMA1StepFore.data\") # MARIMA forecast\n",
    "load(\"MSE-CRBM.data\") # Error CRBM"
   ]
  },
  {
   "cell_type": "markdown",
   "metadata": {
    "ExecuteTime": {
     "end_time": "2017-06-02T11:53:30.371386",
     "start_time": "2017-06-02T09:53:29.943Z"
    }
   },
   "source": [
    "# Get valid models"
   ]
  },
  {
   "cell_type": "markdown",
   "metadata": {},
   "source": [
    "Some of the ARIMA models had convergence issues, therefore we filter them"
   ]
  },
  {
   "cell_type": "code",
   "execution_count": 2,
   "metadata": {
    "ExecuteTime": {
     "end_time": "2017-06-02T14:58:53.146192",
     "start_time": "2017-06-02T12:58:53.128Z"
    }
   },
   "outputs": [],
   "source": [
    "errorTh <- 10 #These models are broken"
   ]
  },
  {
   "cell_type": "code",
   "execution_count": 3,
   "metadata": {
    "ExecuteTime": {
     "end_time": "2017-06-02T15:51:16.481560",
     "start_time": "2017-06-02T13:51:16.454Z"
    }
   },
   "outputs": [],
   "source": [
    "notnullARIMA  <- sapply(fore, function(x) {\n",
    "        !is.null(x) && (sum(is.na(x$nrmse)) + sum(x$nrmse > errorTh, na.rm=TRUE)) == 0                \n",
    "    }\n",
    ")"
   ]
  },
  {
   "cell_type": "code",
   "execution_count": 4,
   "metadata": {
    "ExecuteTime": {
     "end_time": "2017-06-02T15:51:17.237838",
     "start_time": "2017-06-02T13:51:17.208Z"
    }
   },
   "outputs": [],
   "source": [
    "notnullCRBM  <- sapply(error.crbm, function(x) {\n",
    "        !is.null(x) && (sum(is.na(x$nrmse)) + sum(x$nrmse > errorTh, na.rm=TRUE)) == 0                \n",
    "    }\n",
    ")"
   ]
  },
  {
   "cell_type": "code",
   "execution_count": 5,
   "metadata": {
    "ExecuteTime": {
     "end_time": "2017-06-02T15:51:19.374419",
     "start_time": "2017-06-02T13:51:19.355Z"
    }
   },
   "outputs": [
    {
     "data": {
      "text/html": [
       "283"
      ],
      "text/latex": [
       "283"
      ],
      "text/markdown": [
       "283"
      ],
      "text/plain": [
       "[1] 283"
      ]
     },
     "metadata": {},
     "output_type": "display_data"
    }
   ],
   "source": [
    "sum(notnullARIMA)"
   ]
  },
  {
   "cell_type": "code",
   "execution_count": 6,
   "metadata": {
    "ExecuteTime": {
     "end_time": "2017-06-02T15:51:50.315560",
     "start_time": "2017-06-02T13:51:50.295Z"
    }
   },
   "outputs": [
    {
     "data": {
      "text/html": [
       "308"
      ],
      "text/latex": [
       "308"
      ],
      "text/markdown": [
       "308"
      ],
      "text/plain": [
       "[1] 308"
      ]
     },
     "metadata": {},
     "output_type": "display_data"
    }
   ],
   "source": [
    "sum(notnullCRBM)"
   ]
  },
  {
   "cell_type": "code",
   "execution_count": 7,
   "metadata": {
    "ExecuteTime": {
     "end_time": "2017-06-02T15:51:55.403447",
     "start_time": "2017-06-02T13:51:55.382Z"
    }
   },
   "outputs": [
    {
     "data": {
      "text/html": [
       "220"
      ],
      "text/latex": [
       "220"
      ],
      "text/markdown": [
       "220"
      ],
      "text/plain": [
       "[1] 220"
      ]
     },
     "metadata": {},
     "output_type": "display_data"
    }
   ],
   "source": [
    "sum(notnullCRBM & notnullARIMA)"
   ]
  },
  {
   "cell_type": "code",
   "execution_count": 8,
   "metadata": {
    "ExecuteTime": {
     "end_time": "2017-06-02T15:52:04.150652",
     "start_time": "2017-06-02T13:52:04.134Z"
    }
   },
   "outputs": [],
   "source": [
    "e.arima <- fore[notnullCRBM & notnullARIMA]"
   ]
  },
  {
   "cell_type": "code",
   "execution_count": 9,
   "metadata": {
    "ExecuteTime": {
     "end_time": "2017-06-02T15:52:04.747359",
     "start_time": "2017-06-02T13:52:04.727Z"
    }
   },
   "outputs": [],
   "source": [
    "correct <- names(e.arima)"
   ]
  },
  {
   "cell_type": "code",
   "execution_count": 10,
   "metadata": {
    "ExecuteTime": {
     "end_time": "2017-06-02T15:52:06.262352",
     "start_time": "2017-06-02T13:52:06.246Z"
    }
   },
   "outputs": [],
   "source": [
    "e.crbm <- error.crbm[(names(error.crbm) %in% correct)]"
   ]
  },
  {
   "cell_type": "markdown",
   "metadata": {
    "ExecuteTime": {
     "end_time": "2017-06-02T12:08:47.331417",
     "start_time": "2017-06-02T10:08:47.314Z"
    }
   },
   "source": [
    "# Preprocess"
   ]
  },
  {
   "cell_type": "markdown",
   "metadata": {},
   "source": [
    "## MSE"
   ]
  },
  {
   "cell_type": "code",
   "execution_count": 11,
   "metadata": {
    "ExecuteTime": {
     "end_time": "2017-06-02T15:52:09.521055",
     "start_time": "2017-06-02T13:52:09.494Z"
    }
   },
   "outputs": [],
   "source": [
    "mse.crbm <- lapply(e.crbm, function(x)x$mse)\n",
    "mse.crbm <- as.data.frame(do.call(\"rbind\", mse.crbm))\n",
    "names(mse.crbm) <-  c(\"CRBM.rotationGPS\",\"CRBM.sog\",\"CRBM.bathymetry\")"
   ]
  },
  {
   "cell_type": "code",
   "execution_count": 12,
   "metadata": {
    "ExecuteTime": {
     "end_time": "2017-06-02T15:52:11.648590",
     "start_time": "2017-06-02T13:52:11.625Z"
    }
   },
   "outputs": [],
   "source": [
    "mse.arima <- lapply(e.arima, function(x)x$mse)\n",
    "mse.arima <- as.data.frame(do.call(\"rbind\", mse.arima))\n",
    "names(mse.arima) <-  c(\"MARIMA.rotationGPS\",\"MARIMA.sog\",\"MARIMA.bathymetry\")"
   ]
  },
  {
   "cell_type": "code",
   "execution_count": 13,
   "metadata": {
    "ExecuteTime": {
     "end_time": "2017-06-02T15:52:12.085918",
     "start_time": "2017-06-02T13:52:12.070Z"
    }
   },
   "outputs": [],
   "source": [
    "mse <- cbind(mse.arima, mse.crbm)"
   ]
  },
  {
   "cell_type": "markdown",
   "metadata": {
    "ExecuteTime": {
     "end_time": "2017-06-02T14:29:08.582402",
     "start_time": "2017-06-02T12:29:08.565Z"
    }
   },
   "source": [
    "## NRMSE"
   ]
  },
  {
   "cell_type": "code",
   "execution_count": 14,
   "metadata": {
    "ExecuteTime": {
     "end_time": "2017-06-02T16:56:49.899181",
     "start_time": "2017-06-02T14:56:49.867Z"
    }
   },
   "outputs": [],
   "source": [
    "nrmse.crbm <- lapply(e.crbm, function(x)x$nrmse)\n",
    "nrmse.crbm <- as.data.frame(do.call(\"rbind\", nrmse.crbm))\n",
    "nrmse.crbm$model <- \"CRBM\"\n",
    "#names(nrmse.crbm) <-  c(\"CRBM.rotationGPS\",\"CRBM.sog\",\"CRBM.bathymetry\")\n",
    "names(nrmse.crbm) <-  c(\"rotationGPS\",\"sog\",\"bathymetry\", \"model\")"
   ]
  },
  {
   "cell_type": "code",
   "execution_count": 15,
   "metadata": {
    "ExecuteTime": {
     "end_time": "2017-06-02T16:56:50.763361",
     "start_time": "2017-06-02T14:56:50.730Z"
    }
   },
   "outputs": [],
   "source": [
    "nrmse.arima <- lapply(e.arima, function(x)x$nrmse)\n",
    "nrmse.arima <- as.data.frame(do.call(\"rbind\", nrmse.arima))\n",
    "nrmse.arima$model <- \"ARIMA\"\n",
    "names(nrmse.arima) <-  c(\"rotationGPS\",\"sog\",\"bathymetry\", \"model\")"
   ]
  },
  {
   "cell_type": "code",
   "execution_count": 16,
   "metadata": {
    "ExecuteTime": {
     "end_time": "2017-06-02T16:57:07.155454",
     "start_time": "2017-06-02T14:57:07.137Z"
    }
   },
   "outputs": [],
   "source": [
    "nrmse <- rbind(nrmse.arima, nrmse.crbm)"
   ]
  },
  {
   "cell_type": "markdown",
   "metadata": {
    "ExecuteTime": {
     "end_time": "2017-06-02T15:58:14.122506",
     "start_time": "2017-06-02T13:58:14.104Z"
    }
   },
   "source": [
    "### Remove Infs"
   ]
  },
  {
   "cell_type": "code",
   "execution_count": 17,
   "metadata": {
    "ExecuteTime": {
     "end_time": "2017-06-02T17:06:07.987151",
     "start_time": "2017-06-02T15:06:07.966Z"
    }
   },
   "outputs": [],
   "source": [
    "nrmse <- nrmse[-which(is.infinite(nrmse[,3])),]"
   ]
  },
  {
   "cell_type": "code",
   "execution_count": 18,
   "metadata": {
    "ExecuteTime": {
     "end_time": "2017-06-02T17:06:09.532386",
     "start_time": "2017-06-02T15:06:09.504Z"
    },
    "scrolled": true
   },
   "outputs": [
    {
     "name": "stdout",
     "output_type": "stream",
     "text": [
      "'data.frame':\t439 obs. of  4 variables:\n",
      " $ rotationGPS: num  0.905 0.98 0.948 0.988 0.706 ...\n",
      " $ sog        : num  0.0405 0.0374 0.025 0.0205 0.2005 ...\n",
      " $ bathymetry : num  0.0722 0.1361 0.1383 0.1573 0.6579 ...\n",
      " $ model      : chr  \"ARIMA\" \"ARIMA\" \"ARIMA\" \"ARIMA\" ...\n"
     ]
    }
   ],
   "source": [
    "str(nrmse)"
   ]
  },
  {
   "cell_type": "markdown",
   "metadata": {},
   "source": [
    "# Comparison"
   ]
  },
  {
   "cell_type": "markdown",
   "metadata": {},
   "source": [
    "## Mean and Median"
   ]
  },
  {
   "cell_type": "code",
   "execution_count": 19,
   "metadata": {
    "ExecuteTime": {
     "end_time": "2017-06-02T17:10:02.991649",
     "start_time": "2017-06-02T15:10:02.910Z"
    }
   },
   "outputs": [
    {
     "name": "stdout",
     "output_type": "stream",
     "text": [
      "[1] \"CRBM\"\n",
      "[1] \"Mean\"\n"
     ]
    },
    {
     "data": {
      "text/html": [
       "<dl class=dl-horizontal>\n",
       "\t<dt>rotationGPS</dt>\n",
       "\t\t<dd>0.738177707787669</dd>\n",
       "\t<dt>sog</dt>\n",
       "\t\t<dd>0.0992960588937535</dd>\n",
       "\t<dt>bathymetry</dt>\n",
       "\t\t<dd>0.143433999267482</dd>\n",
       "</dl>\n"
      ],
      "text/latex": [
       "\\begin{description*}\n",
       "\\item[rotationGPS] 0.738177707787669\n",
       "\\item[sog] 0.0992960588937535\n",
       "\\item[bathymetry] 0.143433999267482\n",
       "\\end{description*}\n"
      ],
      "text/markdown": [
       "rotationGPS\n",
       ":   0.738177707787669sog\n",
       ":   0.0992960588937535bathymetry\n",
       ":   0.143433999267482\n",
       "\n"
      ],
      "text/plain": [
       "rotationGPS         sog  bathymetry \n",
       " 0.73817771  0.09929606  0.14343400 "
      ]
     },
     "metadata": {},
     "output_type": "display_data"
    },
    {
     "name": "stdout",
     "output_type": "stream",
     "text": [
      "[1] \"Mode:\"\n"
     ]
    },
    {
     "data": {
      "text/html": [
       "<dl class=dl-horizontal>\n",
       "\t<dt>rotationGPS</dt>\n",
       "\t\t<dd>0.740683155462346</dd>\n",
       "\t<dt>sog</dt>\n",
       "\t\t<dd>0.0522231678023677</dd>\n",
       "\t<dt>bathymetry</dt>\n",
       "\t\t<dd>0.10010354978078</dd>\n",
       "</dl>\n"
      ],
      "text/latex": [
       "\\begin{description*}\n",
       "\\item[rotationGPS] 0.740683155462346\n",
       "\\item[sog] 0.0522231678023677\n",
       "\\item[bathymetry] 0.10010354978078\n",
       "\\end{description*}\n"
      ],
      "text/markdown": [
       "rotationGPS\n",
       ":   0.740683155462346sog\n",
       ":   0.0522231678023677bathymetry\n",
       ":   0.10010354978078\n",
       "\n"
      ],
      "text/plain": [
       "rotationGPS         sog  bathymetry \n",
       " 0.74068316  0.05222317  0.10010355 "
      ]
     },
     "metadata": {},
     "output_type": "display_data"
    },
    {
     "name": "stdout",
     "output_type": "stream",
     "text": [
      "[1] \"MARIMA\"\n",
      "[1] \"Mean\"\n"
     ]
    },
    {
     "data": {
      "text/html": [
       "<dl class=dl-horizontal>\n",
       "\t<dt>rotationGPS</dt>\n",
       "\t\t<dd>0.921485904303106</dd>\n",
       "\t<dt>sog</dt>\n",
       "\t\t<dd>0.12872669675154</dd>\n",
       "\t<dt>bathymetry</dt>\n",
       "\t\t<dd>0.173639415838285</dd>\n",
       "</dl>\n"
      ],
      "text/latex": [
       "\\begin{description*}\n",
       "\\item[rotationGPS] 0.921485904303106\n",
       "\\item[sog] 0.12872669675154\n",
       "\\item[bathymetry] 0.173639415838285\n",
       "\\end{description*}\n"
      ],
      "text/markdown": [
       "rotationGPS\n",
       ":   0.921485904303106sog\n",
       ":   0.12872669675154bathymetry\n",
       ":   0.173639415838285\n",
       "\n"
      ],
      "text/plain": [
       "rotationGPS         sog  bathymetry \n",
       "  0.9214859   0.1287267   0.1736394 "
      ]
     },
     "metadata": {},
     "output_type": "display_data"
    },
    {
     "name": "stdout",
     "output_type": "stream",
     "text": [
      "[1] \"Mode:\"\n"
     ]
    },
    {
     "data": {
      "text/html": [
       "<dl class=dl-horizontal>\n",
       "\t<dt>rotationGPS</dt>\n",
       "\t\t<dd>0.936574258875903</dd>\n",
       "\t<dt>sog</dt>\n",
       "\t\t<dd>0.0335542272311971</dd>\n",
       "\t<dt>bathymetry</dt>\n",
       "\t\t<dd>0.0945371242750065</dd>\n",
       "</dl>\n"
      ],
      "text/latex": [
       "\\begin{description*}\n",
       "\\item[rotationGPS] 0.936574258875903\n",
       "\\item[sog] 0.0335542272311971\n",
       "\\item[bathymetry] 0.0945371242750065\n",
       "\\end{description*}\n"
      ],
      "text/markdown": [
       "rotationGPS\n",
       ":   0.936574258875903sog\n",
       ":   0.0335542272311971bathymetry\n",
       ":   0.0945371242750065\n",
       "\n"
      ],
      "text/plain": [
       "rotationGPS         sog  bathymetry \n",
       " 0.93657426  0.03355423  0.09453712 "
      ]
     },
     "metadata": {},
     "output_type": "display_data"
    }
   ],
   "source": [
    "print(\"CRBM\")\n",
    "print(\"Mean\")\n",
    "nrmse.crbm <- nrmse[nrmse$model == \"CRBM\",-4]\n",
    "colMeans(nrmse.crbm)\n",
    "print(\"Mode:\")\n",
    "qu <- apply(nrmse.crbm,2,quantile)\n",
    "qu[3,]\n",
    "\n",
    "print(\"MARIMA\")\n",
    "print(\"Mean\")\n",
    "nrmse.arima <- nrmse[nrmse$model == \"ARIMA\",-4]\n",
    "colMeans(nrmse.arima)\n",
    "print(\"Mode:\")\n",
    "qu <- apply(nrmse.arima,2,quantile)\n",
    "qu[3,]"
   ]
  },
  {
   "cell_type": "markdown",
   "metadata": {},
   "source": [
    "## Boxplots"
   ]
  },
  {
   "cell_type": "code",
   "execution_count": 20,
   "metadata": {
    "ExecuteTime": {
     "end_time": "2017-06-02T16:03:10.733076",
     "start_time": "2017-06-02T14:03:10.700Z"
    }
   },
   "outputs": [
    {
     "ename": "ERROR",
     "evalue": "Error in colMeans(nrmse): 'x' must be numeric\n",
     "output_type": "error",
     "traceback": [
      "Error in colMeans(nrmse): 'x' must be numeric\nTraceback:\n",
      "1. colMeans(nrmse)"
     ]
    }
   ],
   "source": [
    "colMeans(nrmse)\n",
    "qu <- apply(nrmse,2,quantile)\n",
    "qu[3,]"
   ]
  },
  {
   "cell_type": "code",
   "execution_count": 21,
   "metadata": {
    "ExecuteTime": {
     "end_time": "2017-06-02T16:59:37.739821",
     "start_time": "2017-06-02T14:59:37.714Z"
    }
   },
   "outputs": [
    {
     "name": "stderr",
     "output_type": "stream",
     "text": [
      "Using model as id variables\n"
     ]
    }
   ],
   "source": [
    "library(reshape2)\n",
    "test.m <- melt(nrmse)"
   ]
  },
  {
   "cell_type": "code",
   "execution_count": 22,
   "metadata": {
    "ExecuteTime": {
     "end_time": "2017-06-05T11:07:00.843726",
     "start_time": "2017-06-05T09:06:58.974Z"
    },
    "scrolled": true
   },
   "outputs": [
    {
     "data": {
      "image/png": "[encoded data removed]",
      "text/plain": [
       "plot without title"
      ]
     },
     "metadata": {},
     "output_type": "display_data"
    }
   ],
   "source": [
    "library(ggplot2)\n",
    "ggplot(test.m, aes(x = variable, y = value, fill = model)) +\n",
    "  theme(text = element_text(size=15)) +\n",
    "  coord_cartesian(ylim = c(0, 1.5)) +\n",
    "  xlab(\"Variable\")+\n",
    "  ylab(\"NRMSE\")+\n",
    "  geom_boxplot() +\n",
    "  scale_fill_manual(values = c(\"yellow\", \"orange\"))"
   ]
  }
 ],
 "metadata": {
  "jupytext": {
   "formats": "ipynb,r"
  },
  "kernelspec": {
   "display_name": "R",
   "language": "R",
   "name": "ir"
  },
  "language_info": {
   "codemirror_mode": "r",
   "file_extension": ".r",
   "mimetype": "text/x-r-source",
   "name": "R",
   "pygments_lexer": "r",
   "version": "3.5.2"
  },
  "toc": {
   "colors": {
    "hover_highlight": "#DAA520",
    "running_highlight": "#FF0000",
    "selected_highlight": "#FFD700"
   },
   "moveMenuLeft": true,
   "nav_menu": {
    "height": "72px",
    "width": "252px"
   },
   "navigate_menu": true,
   "number_sections": true,
   "sideBar": false,
   "threshold": 4,
   "toc_cell": false,
   "toc_section_display": "block",
   "toc_window_display": false,
   "widenNotebook": false
  }
 },
 "nbformat": 4,
 "nbformat_minor": 1
}
