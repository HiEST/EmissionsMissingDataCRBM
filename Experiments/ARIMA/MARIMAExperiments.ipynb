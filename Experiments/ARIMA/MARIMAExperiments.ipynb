{
 "cells": [
  {
   "cell_type": "markdown",
   "metadata": {},
   "source": [
    "# Install requiered packages"
   ]
  },
  {
   "cell_type": "code",
   "execution_count": null,
   "metadata": {
    "ExecuteTime": {
     "end_time": "2017-05-30T11:02:02.014776",
     "start_time": "2017-05-30T09:02:01.957Z"
    }
   },
   "outputs": [],
   "source": [
    "#install.packages(c(\"marima\",\"NMOF\",\"parallel\"), repos='http://cran.us.r-project.org')"
   ]
  },
  {
   "cell_type": "markdown",
   "metadata": {},
   "source": [
    "# Loading libraries"
   ]
  },
  {
   "cell_type": "code",
   "execution_count": 32,
   "metadata": {
    "ExecuteTime": {
     "end_time": "2017-06-01T11:54:02.730469",
     "start_time": "2017-06-01T09:54:02.710Z"
    }
   },
   "outputs": [],
   "source": [
    "source(\"marima-tools.R\")"
   ]
  },
  {
   "cell_type": "markdown",
   "metadata": {},
   "source": [
    "# Calculate all models"
   ]
  },
  {
   "cell_type": "markdown",
   "metadata": {},
   "source": [
    "## Load data"
   ]
  },
  {
   "cell_type": "code",
   "execution_count": 181,
   "metadata": {
    "ExecuteTime": {
     "end_time": "2017-06-01T16:14:53.369784",
     "start_time": "2017-06-01T14:14:51.613Z"
    },
    "collapsed": true
   },
   "outputs": [],
   "source": [
    "load(\"AISPreprocessedData.data\")"
   ]
  },
  {
   "cell_type": "code",
   "execution_count": 182,
   "metadata": {
    "ExecuteTime": {
     "end_time": "2017-06-01T16:14:53.381109",
     "start_time": "2017-06-01T14:14:52.809Z"
    }
   },
   "outputs": [],
   "source": [
    "Sys.setenv(OPENBLAS_NUM_THREADS=40, OMP_NUM_THREADS=40)"
   ]
  },
  {
   "cell_type": "markdown",
   "metadata": {},
   "source": [
    "## Data and parameter preparation"
   ]
  },
  {
   "cell_type": "code",
   "execution_count": 183,
   "metadata": {
    "ExecuteTime": {
     "end_time": "2017-06-01T16:14:56.521142",
     "start_time": "2017-06-01T14:14:55.434Z"
    }
   },
   "outputs": [],
   "source": [
    "##Parameters\n",
    "levels <- list(AR=0:2,MA=0:2,penalty=1:2,meansAdjusted=0:1)\n",
    "sp <- split(ships, ships$id)\n",
    "vars <- c(\"rotationGPS\", \"sog\",\"bathymetry3\")\n",
    "\n",
    "#ncores <- detectCores()\n",
    "ncores <- 20"
   ]
  },
  {
   "cell_type": "markdown",
   "metadata": {},
   "source": [
    "## Execution"
   ]
  },
  {
   "cell_type": "code",
   "execution_count": 184,
   "metadata": {
    "ExecuteTime": {
     "end_time": "2017-06-01T16:14:58.943892",
     "start_time": "2017-06-01T14:14:57.370Z"
    }
   },
   "outputs": [],
   "source": [
    "cluster <- makeCluster(ncores,type=\"FORK\")  "
   ]
  },
  {
   "cell_type": "code",
   "execution_count": null,
   "metadata": {
    "ExecuteTime": {
     "end_time": "2017-06-01T16:29:27.938036",
     "start_time": "2017-06-01T14:14:58.202Z"
    }
   },
   "outputs": [
    {
     "name": "stderr",
     "output_type": "stream",
     "text": [
      "Modeling 143899\n"
     ]
    },
    {
     "name": "stdout",
     "output_type": "stream",
     "text": [
      "All cases in data,  1  to  1112  accepted for completeness.\n",
      "1112 3  = MARIMA - dimension of data \n"
     ]
    },
    {
     "name": "stderr",
     "output_type": "stream",
     "text": [
      "Modeling 908512\n"
     ]
    },
    {
     "name": "stdout",
     "output_type": "stream",
     "text": [
      "No model specified in define.model: Returning. \n",
      "All cases in data,  1  to  61  accepted for completeness.\n"
     ]
    },
    {
     "name": "stderr",
     "output_type": "stream",
     "text": [
      "Modeling 1009606\n"
     ]
    },
    {
     "name": "stdout",
     "output_type": "stream",
     "text": [
      "No model specified in define.model: Returning. \n",
      "All cases in data,  1  to  10077  accepted for completeness.\n"
     ]
    },
    {
     "name": "stderr",
     "output_type": "stream",
     "text": [
      "Modeling 1068052\n"
     ]
    },
    {
     "name": "stdout",
     "output_type": "stream",
     "text": [
      "All cases in data,  1  to  756  accepted for completeness.\n",
      "756 3  = MARIMA - dimension of data \n"
     ]
    },
    {
     "name": "stderr",
     "output_type": "stream",
     "text": [
      "Modeling 1273249\n"
     ]
    },
    {
     "name": "stdout",
     "output_type": "stream",
     "text": [
      "All cases in data,  1  to  1226  accepted for completeness.\n",
      "1226 3  = MARIMA - dimension of data \n"
     ]
    },
    {
     "name": "stderr",
     "output_type": "stream",
     "text": [
      "Modeling 8556546\n"
     ]
    },
    {
     "name": "stdout",
     "output_type": "stream",
     "text": [
      "All cases in data,  1  to  979  accepted for completeness.\n",
      "979 3  = MARIMA - dimension of data \n"
     ]
    },
    {
     "name": "stderr",
     "output_type": "stream",
     "text": [
      "Modeling 9015734\n"
     ]
    },
    {
     "name": "stdout",
     "output_type": "stream",
     "text": [
      "All cases in data,  1  to  6020  accepted for completeness.\n",
      "6020 3  = MARIMA - dimension of data \n"
     ]
    },
    {
     "name": "stderr",
     "output_type": "stream",
     "text": [
      "Modeling 9112833\n"
     ]
    },
    {
     "name": "stdout",
     "output_type": "stream",
     "text": [
      "All cases in data,  1  to  842  accepted for completeness.\n",
      "842 3  = MARIMA - dimension of data \n"
     ]
    },
    {
     "name": "stderr",
     "output_type": "stream",
     "text": [
      "Modeling 9323720\n"
     ]
    },
    {
     "name": "stdout",
     "output_type": "stream",
     "text": [
      "All cases in data,  1  to  5486  accepted for completeness.\n",
      "5486 3  = MARIMA - dimension of data \n"
     ]
    },
    {
     "name": "stderr",
     "output_type": "stream",
     "text": [
      "Modeling 9327610\n"
     ]
    },
    {
     "name": "stdout",
     "output_type": "stream",
     "text": [
      "All cases in data,  1  to  2123  accepted for completeness.\n",
      "2123 3  = MARIMA - dimension of data \n"
     ]
    },
    {
     "name": "stderr",
     "output_type": "stream",
     "text": [
      "Modeling 9338113\n"
     ]
    },
    {
     "name": "stdout",
     "output_type": "stream",
     "text": [
      "All cases in data,  1  to  1561  accepted for completeness.\n",
      "1561 3  = MARIMA - dimension of data \n"
     ]
    },
    {
     "name": "stderr",
     "output_type": "stream",
     "text": [
      "Modeling 9340467\n"
     ]
    },
    {
     "name": "stdout",
     "output_type": "stream",
     "text": [
      "All cases in data,  1  to  6959  accepted for completeness.\n",
      "6959 3  = MARIMA - dimension of data \n"
     ]
    },
    {
     "name": "stderr",
     "output_type": "stream",
     "text": [
      "Modeling 9359744\n"
     ]
    },
    {
     "name": "stdout",
     "output_type": "stream",
     "text": [
      "All cases in data,  1  to  904  accepted for completeness.\n",
      "904 3  = MARIMA - dimension of data \n"
     ]
    },
    {
     "name": "stderr",
     "output_type": "stream",
     "text": [
      "Modeling 9480280\n"
     ]
    },
    {
     "name": "stdout",
     "output_type": "stream",
     "text": [
      "No model specified in define.model: Returning. \n",
      "All cases in data,  1  to  10080  accepted for completeness.\n"
     ]
    },
    {
     "name": "stderr",
     "output_type": "stream",
     "text": [
      "Modeling 9498743\n"
     ]
    },
    {
     "name": "stdout",
     "output_type": "stream",
     "text": [
      "All cases in data,  1  to  4808  accepted for completeness.\n",
      "4808 3  = MARIMA - dimension of data \n"
     ]
    },
    {
     "name": "stderr",
     "output_type": "stream",
     "text": [
      "Modeling 11656054\n"
     ]
    },
    {
     "name": "stdout",
     "output_type": "stream",
     "text": [
      "All cases in data,  1  to  2630  accepted for completeness.\n",
      "2630 3  = MARIMA - dimension of data \n"
     ]
    },
    {
     "name": "stderr",
     "output_type": "stream",
     "text": [
      "Modeling 160203044\n"
     ]
    },
    {
     "name": "stdout",
     "output_type": "stream",
     "text": [
      "All cases in data,  1  to  5062  accepted for completeness.\n",
      "5062 3  = MARIMA - dimension of data \n"
     ]
    },
    {
     "name": "stderr",
     "output_type": "stream",
     "text": [
      "Modeling 200000000\n"
     ]
    },
    {
     "name": "stdout",
     "output_type": "stream",
     "text": [
      "No model specified in define.model: Returning. \n",
      "All cases in data,  1  to  17  accepted for completeness.\n"
     ]
    },
    {
     "name": "stderr",
     "output_type": "stream",
     "text": [
      "Modeling 205194000\n"
     ]
    },
    {
     "name": "stdout",
     "output_type": "stream",
     "text": [
      "All cases in data,  1  to  2054  accepted for completeness.\n",
      "2054 3  = MARIMA - dimension of data \n"
     ]
    },
    {
     "name": "stderr",
     "output_type": "stream",
     "text": [
      "Modeling 205660000\n"
     ]
    },
    {
     "name": "stdout",
     "output_type": "stream",
     "text": [
      "All cases in data,  1  to  3620  accepted for completeness.\n",
      "3620 3  = MARIMA - dimension of data \n"
     ]
    },
    {
     "name": "stderr",
     "output_type": "stream",
     "text": [
      "Modeling 209373000\n"
     ]
    },
    {
     "name": "stdout",
     "output_type": "stream",
     "text": [
      "All cases in data,  1  to  9890  accepted for completeness.\n",
      "9890 3  = MARIMA - dimension of data \n"
     ]
    },
    {
     "name": "stderr",
     "output_type": "stream",
     "text": [
      "Modeling 209905000\n"
     ]
    },
    {
     "name": "stdout",
     "output_type": "stream",
     "text": [
      "All cases in data,  1  to  1941  accepted for completeness.\n",
      "1941 3  = MARIMA - dimension of data \n"
     ]
    },
    {
     "name": "stderr",
     "output_type": "stream",
     "text": [
      "Modeling 210344000\n"
     ]
    },
    {
     "name": "stdout",
     "output_type": "stream",
     "text": [
      "All cases in data,  1  to  876  accepted for completeness.\n",
      "876 3  = MARIMA - dimension of data \n"
     ]
    },
    {
     "name": "stderr",
     "output_type": "stream",
     "text": [
      "Modeling 210585000\n"
     ]
    },
    {
     "name": "stdout",
     "output_type": "stream",
     "text": [
      "All cases in data,  1  to  2201  accepted for completeness.\n",
      "2201 3  = MARIMA - dimension of data \n"
     ]
    },
    {
     "name": "stderr",
     "output_type": "stream",
     "text": [
      "Modeling 211892000\n"
     ]
    },
    {
     "name": "stdout",
     "output_type": "stream",
     "text": [
      "All cases in data,  1  to  220  accepted for completeness.\n",
      "220 3  = MARIMA - dimension of data \n"
     ]
    },
    {
     "name": "stderr",
     "output_type": "stream",
     "text": [
      "Modeling 215692000\n"
     ]
    },
    {
     "name": "stdout",
     "output_type": "stream",
     "text": [
      "No model specified in define.model: Returning. \n",
      "All cases in data,  1  to  292  accepted for completeness.\n"
     ]
    },
    {
     "name": "stderr",
     "output_type": "stream",
     "text": [
      "Modeling 215974000\n"
     ]
    },
    {
     "name": "stdout",
     "output_type": "stream",
     "text": [
      "All cases in data,  1  to  1246  accepted for completeness.\n",
      "1246 3  = MARIMA - dimension of data \n"
     ]
    },
    {
     "name": "stderr",
     "output_type": "stream",
     "text": [
      "Modeling 219562000\n"
     ]
    },
    {
     "name": "stdout",
     "output_type": "stream",
     "text": [
      "All cases in data,  1  to  953  accepted for completeness.\n",
      "953 3  = MARIMA - dimension of data \n"
     ]
    },
    {
     "name": "stderr",
     "output_type": "stream",
     "text": [
      "Modeling 219848000\n"
     ]
    },
    {
     "name": "stdout",
     "output_type": "stream",
     "text": [
      "No model specified in define.model: Returning. \n",
      "All cases in data,  1  to  108  accepted for completeness.\n"
     ]
    },
    {
     "name": "stderr",
     "output_type": "stream",
     "text": [
      "Modeling 220565000\n"
     ]
    },
    {
     "name": "stdout",
     "output_type": "stream",
     "text": [
      "All cases in data,  1  to  5894  accepted for completeness.\n",
      "5894 3  = MARIMA - dimension of data \n"
     ]
    },
    {
     "name": "stderr",
     "output_type": "stream",
     "text": [
      "Modeling 222512952\n"
     ]
    },
    {
     "name": "stdout",
     "output_type": "stream",
     "text": [
      "No model specified in define.model: Returning. \n",
      "All cases in data,  1  to  7808  accepted for completeness.\n"
     ]
    },
    {
     "name": "stderr",
     "output_type": "stream",
     "text": [
      "Modeling 222734440\n"
     ]
    },
    {
     "name": "stdout",
     "output_type": "stream",
     "text": [
      "All cases in data,  1  to  10080  accepted for completeness.\n",
      "10080 3  = MARIMA - dimension of data \n"
     ]
    },
    {
     "name": "stderr",
     "output_type": "stream",
     "text": [
      "Modeling 222965116\n"
     ]
    },
    {
     "name": "stdout",
     "output_type": "stream",
     "text": [
      "No model specified in define.model: Returning. \n",
      "All cases in data,  1  to  3358  accepted for completeness.\n"
     ]
    },
    {
     "name": "stderr",
     "output_type": "stream",
     "text": [
      "Modeling 224002020\n"
     ]
    },
    {
     "name": "stdout",
     "output_type": "stream",
     "text": [
      "All cases in data,  1  to  4886  accepted for completeness.\n",
      "4886 3  = MARIMA - dimension of data \n"
     ]
    },
    {
     "name": "stderr",
     "output_type": "stream",
     "text": [
      "Modeling 224004280\n"
     ]
    },
    {
     "name": "stdout",
     "output_type": "stream",
     "text": [
      "All cases in data,  1  to  5037  accepted for completeness.\n",
      "5037 3  = MARIMA - dimension of data \n"
     ]
    },
    {
     "name": "stderr",
     "output_type": "stream",
     "text": [
      "Modeling 224004380\n"
     ]
    },
    {
     "name": "stdout",
     "output_type": "stream",
     "text": [
      "All cases in data,  1  to  1403  accepted for completeness.\n",
      "1403 3  = MARIMA - dimension of data \n"
     ]
    },
    {
     "name": "stderr",
     "output_type": "stream",
     "text": [
      "Modeling 224005270\n"
     ]
    },
    {
     "name": "stdout",
     "output_type": "stream",
     "text": [
      "All cases in data,  1  to  3180  accepted for completeness.\n",
      "3180 3  = MARIMA - dimension of data \n"
     ]
    },
    {
     "name": "stderr",
     "output_type": "stream",
     "text": [
      "Modeling 224006280\n"
     ]
    },
    {
     "name": "stdout",
     "output_type": "stream",
     "text": [
      "All cases in data,  1  to  4572  accepted for completeness.\n",
      "4572 3  = MARIMA - dimension of data \n"
     ]
    },
    {
     "name": "stderr",
     "output_type": "stream",
     "text": [
      "Modeling 224006840\n"
     ]
    },
    {
     "name": "stdout",
     "output_type": "stream",
     "text": [
      "All cases in data,  1  to  1511  accepted for completeness.\n",
      "1511 3  = MARIMA - dimension of data \n"
     ]
    },
    {
     "name": "stderr",
     "output_type": "stream",
     "text": [
      "Modeling 224007230\n"
     ]
    },
    {
     "name": "stdout",
     "output_type": "stream",
     "text": [
      "No model specified in define.model: Returning. \n",
      "All cases in data,  1  to  1799  accepted for completeness.\n"
     ]
    },
    {
     "name": "stderr",
     "output_type": "stream",
     "text": [
      "Modeling 224007260\n"
     ]
    },
    {
     "name": "stdout",
     "output_type": "stream",
     "text": [
      "All cases in data,  1  to  1689  accepted for completeness.\n",
      "1689 3  = MARIMA - dimension of data \n"
     ]
    },
    {
     "name": "stderr",
     "output_type": "stream",
     "text": [
      "Modeling 224007270\n"
     ]
    },
    {
     "name": "stdout",
     "output_type": "stream",
     "text": [
      "All cases in data,  1  to  3564  accepted for completeness.\n",
      "3564 3  = MARIMA - dimension of data \n"
     ]
    },
    {
     "name": "stderr",
     "output_type": "stream",
     "text": [
      "Modeling 224010270\n"
     ]
    },
    {
     "name": "stdout",
     "output_type": "stream",
     "text": [
      "All cases in data,  1  to  3386  accepted for completeness.\n",
      "3386 3  = MARIMA - dimension of data \n"
     ]
    },
    {
     "name": "stderr",
     "output_type": "stream",
     "text": [
      "Modeling 224010920\n"
     ]
    },
    {
     "name": "stdout",
     "output_type": "stream",
     "text": [
      "All cases in data,  1  to  3249  accepted for completeness.\n",
      "3249 3  = MARIMA - dimension of data \n"
     ]
    },
    {
     "name": "stderr",
     "output_type": "stream",
     "text": [
      "Modeling 224010950\n"
     ]
    },
    {
     "name": "stdout",
     "output_type": "stream",
     "text": [
      "All cases in data,  1  to  1720  accepted for completeness.\n",
      "1720 3  = MARIMA - dimension of data \n"
     ]
    },
    {
     "name": "stderr",
     "output_type": "stream",
     "text": [
      "Modeling 224010960\n"
     ]
    },
    {
     "name": "stdout",
     "output_type": "stream",
     "text": [
      "All cases in data,  1  to  3625  accepted for completeness.\n",
      "3625 3  = MARIMA - dimension of data \n"
     ]
    },
    {
     "name": "stderr",
     "output_type": "stream",
     "text": [
      "Modeling 224011110\n"
     ]
    },
    {
     "name": "stdout",
     "output_type": "stream",
     "text": [
      "All cases in data,  1  to  4770  accepted for completeness.\n",
      "4770 3  = MARIMA - dimension of data \n"
     ]
    },
    {
     "name": "stderr",
     "output_type": "stream",
     "text": [
      "Modeling 224011120\n"
     ]
    },
    {
     "name": "stdout",
     "output_type": "stream",
     "text": [
      "All cases in data,  1  to  3109  accepted for completeness.\n",
      "3109 3  = MARIMA - dimension of data \n"
     ]
    },
    {
     "name": "stderr",
     "output_type": "stream",
     "text": [
      "Modeling 224011150\n"
     ]
    },
    {
     "name": "stdout",
     "output_type": "stream",
     "text": [
      "All cases in data,  1  to  3294  accepted for completeness.\n",
      "3294 3  = MARIMA - dimension of data \n"
     ]
    },
    {
     "name": "stderr",
     "output_type": "stream",
     "text": [
      "Modeling 224011160\n"
     ]
    },
    {
     "name": "stdout",
     "output_type": "stream",
     "text": [
      "All cases in data,  1  to  3306  accepted for completeness.\n",
      "3306 3  = MARIMA - dimension of data \n"
     ]
    },
    {
     "name": "stderr",
     "output_type": "stream",
     "text": [
      "Modeling 224012830\n"
     ]
    },
    {
     "name": "stdout",
     "output_type": "stream",
     "text": [
      "All cases in data,  1  to  4916  accepted for completeness.\n",
      "4916 3  = MARIMA - dimension of data \n"
     ]
    },
    {
     "name": "stderr",
     "output_type": "stream",
     "text": [
      "Modeling 224012840\n"
     ]
    },
    {
     "name": "stdout",
     "output_type": "stream",
     "text": [
      "All cases in data,  1  to  4922  accepted for completeness.\n",
      "4922 3  = MARIMA - dimension of data \n"
     ]
    },
    {
     "name": "stderr",
     "output_type": "stream",
     "text": [
      "Modeling 224012860\n"
     ]
    },
    {
     "name": "stdout",
     "output_type": "stream",
     "text": [
      "All cases in data,  1  to  5030  accepted for completeness.\n",
      "5030 3  = MARIMA - dimension of data \n"
     ]
    },
    {
     "name": "stderr",
     "output_type": "stream",
     "text": [
      "Modeling 224014120\n"
     ]
    },
    {
     "name": "stdout",
     "output_type": "stream",
     "text": [
      "All cases in data,  1  to  3148  accepted for completeness.\n",
      "3148 3  = MARIMA - dimension of data \n"
     ]
    },
    {
     "name": "stderr",
     "output_type": "stream",
     "text": [
      "Modeling 224014270\n"
     ]
    },
    {
     "name": "stdout",
     "output_type": "stream",
     "text": [
      "All cases in data,  1  to  4924  accepted for completeness.\n",
      "4924 3  = MARIMA - dimension of data \n"
     ]
    },
    {
     "name": "stderr",
     "output_type": "stream",
     "text": [
      "Modeling 224014710\n"
     ]
    },
    {
     "name": "stdout",
     "output_type": "stream",
     "text": [
      "All cases in data,  1  to  3248  accepted for completeness.\n",
      "3248 3  = MARIMA - dimension of data \n"
     ]
    },
    {
     "name": "stderr",
     "output_type": "stream",
     "text": [
      "Modeling 224016220\n"
     ]
    },
    {
     "name": "stdout",
     "output_type": "stream",
     "text": [
      "All cases in data,  1  to  4730  accepted for completeness.\n",
      "4730 3  = MARIMA - dimension of data \n"
     ]
    },
    {
     "name": "stderr",
     "output_type": "stream",
     "text": [
      "Modeling 224016340\n"
     ]
    },
    {
     "name": "stdout",
     "output_type": "stream",
     "text": [
      "All cases in data,  1  to  5198  accepted for completeness.\n",
      "5198 3  = MARIMA - dimension of data \n"
     ]
    },
    {
     "name": "stderr",
     "output_type": "stream",
     "text": [
      "Modeling 224016640\n"
     ]
    },
    {
     "name": "stdout",
     "output_type": "stream",
     "text": [
      "All cases in data,  1  to  7651  accepted for completeness.\n",
      "7651 3  = MARIMA - dimension of data \n"
     ]
    },
    {
     "name": "stderr",
     "output_type": "stream",
     "text": [
      "Modeling 224016890\n"
     ]
    },
    {
     "name": "stdout",
     "output_type": "stream",
     "text": [
      "All cases in data,  1  to  4737  accepted for completeness.\n",
      "4737 3  = MARIMA - dimension of data \n"
     ]
    },
    {
     "name": "stderr",
     "output_type": "stream",
     "text": [
      "Modeling 224017170\n"
     ]
    },
    {
     "name": "stdout",
     "output_type": "stream",
     "text": [
      "All cases in data,  1  to  4951  accepted for completeness.\n",
      "4951 3  = MARIMA - dimension of data \n"
     ]
    },
    {
     "name": "stderr",
     "output_type": "stream",
     "text": [
      "Modeling 224020960\n"
     ]
    },
    {
     "name": "stdout",
     "output_type": "stream",
     "text": [
      "All cases in data,  1  to  7427  accepted for completeness.\n",
      "7427 3  = MARIMA - dimension of data \n"
     ]
    },
    {
     "name": "stderr",
     "output_type": "stream",
     "text": [
      "Modeling 224023970\n"
     ]
    },
    {
     "name": "stdout",
     "output_type": "stream",
     "text": [
      "All cases in data,  1  to  4511  accepted for completeness.\n",
      "4511 3  = MARIMA - dimension of data \n"
     ]
    },
    {
     "name": "stderr",
     "output_type": "stream",
     "text": [
      "Modeling 224023976\n"
     ]
    }
   ],
   "source": [
    "#r <- parLapply(cluster,sp, gridMARIMA, v=vars, l=levels) #Using parallel in at this level\n",
    "marimaRes <- lapply(sp, gridMARIMA, v=vars, l=levels, cluster) #Using parallel in gridSearch"
   ]
  },
  {
   "cell_type": "code",
   "execution_count": null,
   "metadata": {
    "ExecuteTime": {
     "end_time": "2017-06-01T16:29:27.942131",
     "start_time": "2017-06-01T14:15:00.523Z"
    }
   },
   "outputs": [],
   "source": [
    "stopCluster(cluster)  "
   ]
  },
  {
   "cell_type": "code",
   "execution_count": null,
   "metadata": {
    "ExecuteTime": {
     "end_time": "2017-06-01T16:29:27.946224",
     "start_time": "2017-06-01T14:15:15.181Z"
    }
   },
   "outputs": [],
   "source": [
    "save(marimaRes, file=\"MARIMAResults.data\")"
   ]
  },
  {
   "cell_type": "markdown",
   "metadata": {},
   "source": [
    "# Model analysis"
   ]
  },
  {
   "cell_type": "code",
   "execution_count": 5,
   "metadata": {
    "ExecuteTime": {
     "end_time": "2017-06-01T11:17:57.835624",
     "start_time": "2017-06-01T09:17:56.384Z"
    },
    "collapsed": true
   },
   "outputs": [],
   "source": [
    "load(file=\"MARIMAResults.data\")"
   ]
  },
  {
   "cell_type": "code",
   "execution_count": 9,
   "metadata": {
    "ExecuteTime": {
     "end_time": "2017-06-01T11:23:39.439459",
     "start_time": "2017-06-01T09:23:39.089Z"
    }
   },
   "outputs": [
    {
     "data": {
      "image/png": "[encoded data removed]",
      "text/plain": [
       "Plot with title \"Real vs Predicted\""
      ]
     },
     "metadata": {},
     "output_type": "display_data"
    },
    {
     "data": {
      "image/png": "[encoded data removed]",
      "text/plain": [
       "Plot with title \"Real vs Predicted\""
      ]
     },
     "metadata": {},
     "output_type": "display_data"
    },
    {
     "data": {
      "image/png": "[encoded data removed]",
      "text/plain": [
       "Plot with title \"Residuals\""
      ]
     },
     "metadata": {},
     "output_type": "display_data"
    },
    {
     "data": {
      "image/png": "[encoded data removed]",
      "text/plain": [
       "Plot with title \"Residuals\""
      ]
     },
     "metadata": {},
     "output_type": "display_data"
    }
   ],
   "source": [
    "plotMARIMA(marimaRes[[4]]$model)"
   ]
  },
  {
   "cell_type": "markdown",
   "metadata": {},
   "source": [
    "## Analysis"
   ]
  },
  {
   "cell_type": "code",
   "execution_count": null,
   "metadata": {
    "ExecuteTime": {
     "end_time": "2017-05-30T11:57:59.798460",
     "start_time": "2017-05-30T09:57:59.435Z"
    }
   },
   "outputs": [],
   "source": [
    "plotMARIMA(marimaRes[[1]]$model$model$DATA)"
   ]
  },
  {
   "cell_type": "code",
   "execution_count": null,
   "metadata": {
    "collapsed": true
   },
   "outputs": [],
   "source": [
    "errors <- unlist(sapply(r, function(x) if(is.null(x$model)) x$message))"
   ]
  },
  {
   "cell_type": "code",
   "execution_count": null,
   "metadata": {},
   "outputs": [],
   "source": [
    "errors"
   ]
  },
  {
   "cell_type": "markdown",
   "metadata": {
    "ExecuteTime": {
     "end_time": "2017-06-01T13:08:19.111537",
     "start_time": "2017-06-01T11:08:19.095Z"
    }
   },
   "source": [
    "## One-step Forecasting"
   ]
  },
  {
   "cell_type": "code",
   "execution_count": 62,
   "metadata": {
    "ExecuteTime": {
     "end_time": "2017-06-01T12:21:24.624246",
     "start_time": "2017-06-01T10:21:23.472Z"
    },
    "collapsed": true
   },
   "outputs": [],
   "source": [
    "cluster <- makeCluster(ncores,type=\"FORK\")  "
   ]
  },
  {
   "cell_type": "code",
   "execution_count": 63,
   "metadata": {
    "ExecuteTime": {
     "end_time": "2017-06-01T12:21:33.999163",
     "start_time": "2017-06-01T10:21:25.921Z"
    }
   },
   "outputs": [],
   "source": [
    "fore <- parLapply(cluster, marimaRes, \n",
    "        function(x) {\n",
    "            ret <- NULL\n",
    "            if (!is.null(x$model)) {\n",
    "                    ret <- stepwiseForecast(x$model$model, t(x$model$model$DATA))\n",
    "            }\n",
    "\n",
    "            return(ret)\n",
    "        }\n",
    ")"
   ]
  },
  {
   "cell_type": "code",
   "execution_count": 64,
   "metadata": {
    "ExecuteTime": {
     "end_time": "2017-06-01T12:21:34.040216",
     "start_time": "2017-06-01T10:21:27.712Z"
    },
    "collapsed": true
   },
   "outputs": [],
   "source": [
    "stopCluster(cluster)"
   ]
  },
  {
   "cell_type": "code",
   "execution_count": 191,
   "metadata": {
    "ExecuteTime": {
     "end_time": "2017-06-02T11:51:38.138852",
     "start_time": "2017-06-02T09:51:36.026Z"
    },
    "collapsed": true
   },
   "outputs": [],
   "source": [
    "save(fore, file=\"~/data/MARIMA1StepFore.data\")"
   ]
  },
  {
   "cell_type": "code",
   "execution_count": 188,
   "metadata": {
    "ExecuteTime": {
     "end_time": "2017-06-02T11:49:23.562341",
     "start_time": "2017-06-02T09:49:22.850Z"
    }
   },
   "outputs": [],
   "source": [
    "load(\"~/data/MARIMA1StepFore.data\")"
   ]
  },
  {
   "cell_type": "code",
   "execution_count": 115,
   "metadata": {
    "ExecuteTime": {
     "end_time": "2017-06-01T15:10:12.592916",
     "start_time": "2017-06-01T13:10:12.568Z"
    }
   },
   "outputs": [
    {
     "data": {
      "text/html": [
       "TRUE"
      ],
      "text/latex": [
       "TRUE"
      ],
      "text/markdown": [
       "TRUE"
      ],
      "text/plain": [
       "[1] TRUE"
      ]
     },
     "metadata": {},
     "output_type": "display_data"
    }
   ],
   "source": [
    "is.null(fore[[3]])"
   ]
  },
  {
   "cell_type": "code",
   "execution_count": 117,
   "metadata": {
    "ExecuteTime": {
     "end_time": "2017-06-01T15:43:26.330496",
     "start_time": "2017-06-01T13:43:26.307Z"
    }
   },
   "outputs": [],
   "source": [
    "#Filter Null\n",
    "fore2 <- fore[!sapply(fore, is.null)] "
   ]
  },
  {
   "cell_type": "code",
   "execution_count": 168,
   "metadata": {
    "ExecuteTime": {
     "end_time": "2017-06-01T15:59:26.406977",
     "start_time": "2017-06-01T13:59:26.375Z"
    }
   },
   "outputs": [],
   "source": [
    "nr <- sapply(fore2, function(x){\n",
    "    if (sum(x$nrmse) != Inf) {\n",
    "        x$nrmse\n",
    "    } else {\n",
    "        rep(NA, length(x$nrmse))\n",
    "    }\n",
    "})\n"
   ]
  },
  {
   "cell_type": "code",
   "execution_count": 170,
   "metadata": {
    "ExecuteTime": {
     "end_time": "2017-06-01T15:59:31.577772",
     "start_time": "2017-06-01T13:59:31.531Z"
    }
   },
   "outputs": [
    {
     "data": {
      "text/html": [
       "<table>\n",
       "<thead><tr><th></th><th scope=col>143899</th><th scope=col>1068052</th><th scope=col>1273249</th><th scope=col>8556546</th><th scope=col>9015734</th><th scope=col>9112833</th><th scope=col>9323720</th><th scope=col>9327610</th><th scope=col>9338113</th><th scope=col>9340467</th><th scope=col>...</th><th scope=col>636091081</th><th scope=col>636091317</th><th scope=col>636091602</th><th scope=col>636091896</th><th scope=col>636091999</th><th scope=col>636092040</th><th scope=col>636092521</th><th scope=col>636092527</th><th scope=col>667001286</th><th scope=col>672247000</th></tr></thead>\n",
       "<tbody>\n",
       "\t<tr><th scope=row>rotationGPS</th><td>0.90507288  </td><td>0.9800007   </td><td>0.94786493  </td><td>0.9879506   </td><td>0.99756838  </td><td>0.7064281   </td><td>0.99086315  </td><td>  405.394   </td><td>9.914859e-01</td><td>0.92036438  </td><td>...         </td><td>0.95559316  </td><td>0.92173697  </td><td> 10.10429   </td><td>0.85981047  </td><td>0.63054042  </td><td>0.9727250   </td><td>0.72319009  </td><td>0.96503706  </td><td>0.94219126  </td><td>0.98180320  </td></tr>\n",
       "\t<tr><th scope=row>sog</th><td>0.04051823  </td><td>0.0373633   </td><td>0.02504716  </td><td>0.0204861   </td><td>0.01426987  </td><td>0.2004593   </td><td>0.03222009  </td><td>21604.340   </td><td>4.583364e+04</td><td>0.01906311  </td><td>...         </td><td>0.02269309  </td><td>0.05709523  </td><td>141.80752   </td><td>0.01962929  </td><td>0.04775214  </td><td>0.0192243   </td><td>0.02260047  </td><td>0.03232376  </td><td>0.03119552  </td><td>0.05294479  </td></tr>\n",
       "\t<tr><th scope=row>bathymetry3</th><td>0.07222461  </td><td>0.1361383   </td><td>0.13833957  </td><td>0.1573309   </td><td>0.08613052  </td><td>0.6578512   </td><td>0.06687321  </td><td>19057.872   </td><td>4.041963e+04</td><td>0.06156089  </td><td>...         </td><td>0.11350703  </td><td>0.12894252  </td><td>558.77003   </td><td>0.13821416  </td><td>0.13478554  </td><td>0.1163590   </td><td>0.13175026  </td><td>0.12394839  </td><td>0.11239881  </td><td>0.10638641  </td></tr>\n",
       "</tbody>\n",
       "</table>\n"
      ],
      "text/latex": [
       "\\begin{tabular}{r|lllllllllllllllllllllllllllllllllllllllllllllllllllllllllllllllllllllllllllllllllllllllllllllllllllllllllllllllllllllllllllllllllllllllllllllllllllllllllllllllllllllllllllllllllllllllllllllllllllllllllllllllllllllllllllllllllllllllllllllllllllllllllllllllllllllllllllllllllllllllllllllllllllllllllllllllllllll}\n",
       "  & 143899 & 1068052 & 1273249 & 8556546 & 9015734 & 9112833 & 9323720 & 9327610 & 9338113 & 9340467 & ... & 636091081 & 636091317 & 636091602 & 636091896 & 636091999 & 636092040 & 636092521 & 636092527 & 667001286 & 672247000\\\\\n",
       "\\hline\n",
       "\trotationGPS & 0.90507288   & 0.9800007    & 0.94786493   & 0.9879506    & 0.99756838   & 0.7064281    & 0.99086315   &   405.394    & 9.914859e-01 & 0.92036438   & ...          & 0.95559316   & 0.92173697   &  10.10429    & 0.85981047   & 0.63054042   & 0.9727250    & 0.72319009   & 0.96503706   & 0.94219126   & 0.98180320  \\\\\n",
       "\tsog & 0.04051823   & 0.0373633    & 0.02504716   & 0.0204861    & 0.01426987   & 0.2004593    & 0.03222009   & 21604.340    & 4.583364e+04 & 0.01906311   & ...          & 0.02269309   & 0.05709523   & 141.80752    & 0.01962929   & 0.04775214   & 0.0192243    & 0.02260047   & 0.03232376   & 0.03119552   & 0.05294479  \\\\\n",
       "\tbathymetry3 & 0.07222461   & 0.1361383    & 0.13833957   & 0.1573309    & 0.08613052   & 0.6578512    & 0.06687321   & 19057.872    & 4.041963e+04 & 0.06156089   & ...          & 0.11350703   & 0.12894252   & 558.77003    & 0.13821416   & 0.13478554   & 0.1163590    & 0.13175026   & 0.12394839   & 0.11239881   & 0.10638641  \\\\\n",
       "\\end{tabular}\n"
      ],
      "text/markdown": [
       "1. 0.90507288178592\n",
       "2. 0.0405182322794811\n",
       "3. 0.0722246144272689\n",
       "4. 0.980000749449889\n",
       "5. 0.0373632962721733\n",
       "6. 0.136138264010638\n",
       "7. 0.947864932691004\n",
       "8. 0.0250471585628442\n",
       "9. 0.138339565067356\n",
       "10. 0.987950610301474\n",
       "11. 0.0204861049402454\n",
       "12. 0.157330916740298\n",
       "13. 0.997568376123932\n",
       "14. 0.0142698676532429\n",
       "15. 0.0861305248968367\n",
       "16. 0.70642814578756\n",
       "17. 0.200459274581336\n",
       "18. 0.657851193867321\n",
       "19. 0.990863148230599\n",
       "20. 0.0322200875926203\n",
       "21. 0.0668732135500798\n",
       "22. 405.393964382654\n",
       "23. 21604.3400833724\n",
       "24. 19057.871968024\n",
       "25. 0.99148588318789\n",
       "26. 45833.6379809082\n",
       "27. 40419.6260064924\n",
       "28. 0.920364379963916\n",
       "29. 0.0190631090818491\n",
       "30. 0.0615608861753995\n",
       "31. 0.959296878905238\n",
       "32. 0.0203483761372752\n",
       "33. 0.0853683095499064\n",
       "34. 0.961402812270266\n",
       "35. 0.0255441409346882\n",
       "36. 0.0675645142511713\n",
       "37. 0.986239890575444\n",
       "38. 0.0326684449813065\n",
       "39. 0.110947745962793\n",
       "40. 0.975016407555807\n",
       "41. 0.0261392196710294\n",
       "42. 0.109265630123293\n",
       "43. 1.00500405525083\n",
       "44. 0.0209193822323215\n",
       "45. 0.0706558606092114\n",
       "46. 0.971542906044159\n",
       "47. 0.0355630777531299\n",
       "48. 0.107310450944041\n",
       "49. 0.93865068754254\n",
       "50. 0.0113460212425214\n",
       "51. 0.054315939546076\n",
       "52. 0.948153977445101\n",
       "53. 0.0293456541165917\n",
       "54. 0.0635318296943015\n",
       "55. 0.98050152089155\n",
       "56. 0.0225219932936051\n",
       "57. 0.153261889142293\n",
       "58. 0.934899761602908\n",
       "59. 0.0478598160744143\n",
       "60. 0.147173002105409\n",
       "61. 0.830070391230239\n",
       "62. 0.192533018171375\n",
       "63. 0.315063665589979\n",
       "64. 0.9498525526386\n",
       "65. 0.0385319140088191\n",
       "66. 0.137321649765265\n",
       "67. 0.979106077461631\n",
       "68. 0.0173929375017225\n",
       "69. 0.0911848321414182\n",
       "70. 0.9304605234402\n",
       "71. 0.0207294462479778\n",
       "72. 0.0435113929954498\n",
       "73. 0.899863260382314\n",
       "74. 0.0304846253745245\n",
       "75. 0.0429387785758177\n",
       "76. 0.909541887594852\n",
       "77. 0.0773924027354294\n",
       "78. 0.147912034955877\n",
       "79. 0.898874027721664\n",
       "80. 0.187893636289622\n",
       "81. 0.115610972614713\n",
       "82. 0.868493928094927\n",
       "83. 0.062303639657101\n",
       "84. 0.0825996858761736\n",
       "85. 0.873197124683107\n",
       "86. 0.232793005268315\n",
       "87. 0.0794852913457404\n",
       "88. 0.910459044347113\n",
       "89. 0.119458306586398\n",
       "90. 0.0669581106667582\n",
       "91. 0.978200373048512\n",
       "92. 0.0123023233813275\n",
       "93. 0.220351539839195\n",
       "94. 0.910108932951949\n",
       "95. 0.0780625548008757\n",
       "96. 0.0979536620204329\n",
       "97. 0.912858032505948\n",
       "98. 0.102297494654893\n",
       "99. 0.130869287420646\n",
       "100. 0.741271171678501\n",
       "101. 0.178371450992341\n",
       "102. 0.210229809509725\n",
       "103. 0.956420340571034\n",
       "104. 0.168484589496414\n",
       "105. 0.0793264231631186\n",
       "106. 0.9097579620367\n",
       "107. 0.0689524220136939\n",
       "108. 0.0881233936444482\n",
       "109. 0.97105333740716\n",
       "110. 0.0598438041957442\n",
       "111. 0.0991195411958016\n",
       "112. 0.87426059062783\n",
       "113. 0.0788363008049003\n",
       "114. 0.0947900410531648\n",
       "115. 0.995067081033485\n",
       "116. 0.053246458700603\n",
       "117. 0.136015166394834\n",
       "118. 0.975743459082217\n",
       "119. 0.100123542891608\n",
       "120. 0.0544403701575363\n",
       "121. 0.969208269044872\n",
       "122. 0.0804625190687555\n",
       "123. 0.0953110930932611\n",
       "124. 0.852760505054279\n",
       "125. 0.258208125665903\n",
       "126. 0.0807589764760771\n",
       "127. 0.940409981574926\n",
       "128. 0.119321256898171\n",
       "129. 0.0795205685064052\n",
       "130. 0.91891222110183\n",
       "131. 0.348760116588276\n",
       "132. 0.079271593904862\n",
       "133. 0.945866180404829\n",
       "134. 0.126191615867613\n",
       "135. 0.0712562068247664\n",
       "136. 0.88904119360953\n",
       "137. 0.0635698252714766\n",
       "138. 0.0974187364645145\n",
       "139. 0.991230455573447\n",
       "140. 0.0475257869514664\n",
       "141. 0.0549718339815209\n",
       "142. 0.889734610135632\n",
       "143. 0.0621890239980162\n",
       "144. 0.109822446224456\n",
       "145. 0.83948648582511\n",
       "146. 0.139240913781465\n",
       "147. 0.0785696877934151\n",
       "148. 0.765389797340258\n",
       "149. 0.142968193761477\n",
       "150. 0.0925510864926826\n",
       "151. 0.856298737097031\n",
       "152. 0.148275981150054\n",
       "153. 0.116760158345692\n",
       "154. 0.852405603531786\n",
       "155. 0.0903842303165139\n",
       "156. 0.0900336089643697\n",
       "157. 0.917104096732321\n",
       "158. 0.0800956353639065\n",
       "159. 0.0851045114709945\n",
       "160. 0.939875105371213\n",
       "161. 0.0736663073023662\n",
       "162. 0.103707346661775\n",
       "163. 0.789414810616936\n",
       "164. 0.0198650722386362\n",
       "165. 0.228559875578833\n",
       "166. 0.876143992979751\n",
       "167. 0.226784212813954\n",
       "168. 0.0806324744175032\n",
       "169. 0.972201908997517\n",
       "170. 0.0294393513703546\n",
       "171. 0.102260957428001\n",
       "172. 0.784645265124855\n",
       "173. 0.181359356802882\n",
       "174. 0.210736872150298\n",
       "175. 0.84931498525557\n",
       "176. 0.165223526734575\n",
       "177. 0.470147803639422\n",
       "178. 0.980703430892342\n",
       "179. 0.0501801562726965\n",
       "180. 0.0570640172979006\n",
       "181. 0.784850166079311\n",
       "182. 0.0921592288944736\n",
       "183. 0.711846634498298\n",
       "184. 0.988974880362145\n",
       "185. 0.0190003493235251\n",
       "186. 0.116157226841191\n",
       "187. 0.933136822474934\n",
       "188. 0.119809535811162\n",
       "189. 0.0914448600749621\n",
       "190. 0.885656438361634\n",
       "191. 0.175271692982217\n",
       "192. 0.0806439530874035\n",
       "193. 0.960547879681307\n",
       "194. 0.184176060964608\n",
       "195. 0.0649468555718536\n",
       "196. 0.924338563247263\n",
       "197. 0.136682127438955\n",
       "198. 0.0797320443717114\n",
       "199. 0.984324410151893\n",
       "200. 0.102104250629782\n",
       "201. 0.0701394736753553\n",
       "202. 0.845950067543275\n",
       "203. 0.0948437936338159\n",
       "204. 0.998399932578557\n",
       "205. 0.948685184682057\n",
       "206. 0.0670200603955238\n",
       "207. 0.130453121291253\n",
       "208. 0.866397301602827\n",
       "209. 0.116095709594757\n",
       "210. 0.0759347170295239\n",
       "211. 0.902621832700343\n",
       "212. 0.100228539946744\n",
       "213. 0.746319217113594\n",
       "214. 0.878856215577277\n",
       "215. 0.178709285233736\n",
       "216. 0.107557777161711\n",
       "217. 0.930917808175742\n",
       "218. 0.106983802858162\n",
       "219. 0.0759158698798472\n",
       "220. 0.86965181295435\n",
       "221. 0.171444939592236\n",
       "222. 0.0801439147219163\n",
       "223. 0.913112111468793\n",
       "224. 0.131298115103688\n",
       "225. 0.079027878970524\n",
       "226. 0.93936311576492\n",
       "227. 0.114987902747903\n",
       "228. 0.0823151804996651\n",
       "229. 0.951495746279787\n",
       "230. 0.0966014657019148\n",
       "231. 0.082989611538952\n",
       "232. 0.935637999661773\n",
       "233. 0.0828606706454257\n",
       "234. 0.234760867517168\n",
       "235. 0.971504210497974\n",
       "236. 0.126057733712548\n",
       "237. 0.0687305444005585\n",
       "238. 0.943929305706983\n",
       "239. 0.0722414441789025\n",
       "240. 0.279775520095543\n",
       "241. 0.890077259210022\n",
       "242. 0.0398520486420207\n",
       "243. 0.100653283668943\n",
       "244. 0.919551889812989\n",
       "245. 0.143236580530476\n",
       "246. 0.0768199042534659\n",
       "247. 0.894480317526378\n",
       "248. 0.0826896039805757\n",
       "249. 0.079488433549093\n",
       "250. 0.900189206552357\n",
       "251. 0.263218892288077\n",
       "252. 0.0564929821913788\n",
       "253. 0.861461150042339\n",
       "254. 0.152811097966114\n",
       "255. 0.0807393370536795\n",
       "256. 0.957443919380744\n",
       "257. 0.119684743780876\n",
       "258. 0.0795467920952639\n",
       "259. 0.973199160266577\n",
       "260. 0.0987971945537009\n",
       "261. 0.0770915401869373\n",
       "262. 0.809628806485805\n",
       "263. 0.196048247089757\n",
       "264. 0.121561331691175\n",
       "265. 0.788450647319484\n",
       "266. 0.210387206246044\n",
       "267. 0.0772797888164524\n",
       "268. 0.878256097546483\n",
       "269. 0.0697201862436371\n",
       "270. 0.0896402431616077\n",
       "271. 0.891859055167976\n",
       "272. 0.126268883067569\n",
       "273. 0.0802458448550535\n",
       "274. 0.872626693977476\n",
       "275. 0.152766583232744\n",
       "276. 0.0866461461232576\n",
       "277. 0.969350117209416\n",
       "278. 0.0157588832964644\n",
       "279. 0.0938420778179181\n",
       "280. 0.909112670870903\n",
       "281. 0.111879614610083\n",
       "282. 0.0801610835622612\n",
       "283. 0.925348544092591\n",
       "284. 0.124970078425861\n",
       "285. 0.110708156611603\n",
       "286. 0.984708369588958\n",
       "287. 0.0556468090694496\n",
       "288. 0.0809206014540037\n",
       "289. 0.924605327891636\n",
       "290. 0.121596541600869\n",
       "291. 0.0799838584536687\n",
       "292. 9092821353813338\n",
       "293. 31733580557751192\n",
       "294. 5.20117890096273\n",
       "295. 0.713921359372236\n",
       "296. 0.229978434905321\n",
       "297. 0.107720857363186\n",
       "298. 0.930948703534813\n",
       "299. 0.0600354750202675\n",
       "300. 0.0753055911759672\n",
       "301. 0.96682670265776\n",
       "302. 0.347559323193359\n",
       "303. 0.337405602925087\n",
       "304. 0.918439509679286\n",
       "305. 0.139655869199067\n",
       "306. 0.0816378219743189\n",
       "307. 0.908931499933794\n",
       "308. 0.241590078480242\n",
       "309. 0.0815360827987183\n",
       "310. 0.96768645353292\n",
       "311. 0.127004525859236\n",
       "312. 0.0756450025220835\n",
       "313. 0.931610507391022\n",
       "314. 0.139508629967784\n",
       "315. 0.0712152445124963\n",
       "316. 0.891223767003873\n",
       "317. 0.0760831320949892\n",
       "318. 0.0803086600597237\n",
       "319. 0.922583024868423\n",
       "320. 0.19300452964299\n",
       "321. 0.079982555870403\n",
       "322. 0.907617590033381\n",
       "323. 0.0896784436663599\n",
       "324. 0.414594177398614\n",
       "325. 0.978207631528624\n",
       "326. 0.0215310010620788\n",
       "327. 0.0530885194801185\n",
       "328. 0.885355264146157\n",
       "329. 0.0757383674359722\n",
       "330. 0.0802132236273213\n",
       "331. 0.872322056851773\n",
       "332. 0.0716477317449058\n",
       "333. 0.193986452193403\n",
       "334. 0.950214836023068\n",
       "335. 0.0106444181907281\n",
       "336. 0.0480865465123012\n",
       "337. 0.462011625422971\n",
       "338. 0.0504964249780085\n",
       "339. 0.131842591960691\n",
       "340. 0.979272508312943\n",
       "341. 0.0199759820617943\n",
       "342. 0.052947487369665\n",
       "343. 0.871995066122365\n",
       "344. 0.0713254342001605\n",
       "345. 0.0748316875733723\n",
       "346. 0.893662044296439\n",
       "347. 0.0737893279742781\n",
       "348. 0.0795032474490973\n",
       "349. 0.938376088368041\n",
       "350. 0.156818411133522\n",
       "351. 0.196187706645172\n",
       "352. 0.960211543243875\n",
       "353. 0.0249730596416008\n",
       "354. 0.0657550384425504\n",
       "355. 0.819878155711569\n",
       "356. 0.0419660862992234\n",
       "357. 0.11141856570951\n",
       "358. 0.804837705283791\n",
       "359. 0.248219956782491\n",
       "360. 0.711800228336832\n",
       "361. 0.962994839082943\n",
       "362. 0.00731609780236042\n",
       "363. 0.0553772154222267\n",
       "364. 0.904035819577644\n",
       "365. 0.285868114149948\n",
       "366. 0.327489746062506\n",
       "367. NA\n",
       "368. NA\n",
       "369. NA\n",
       "370. 0.873604352160515\n",
       "371. 0.184161366996288\n",
       "372. 0.205071349460338\n",
       "373. 0.933284758838986\n",
       "374. 0.0312595377217629\n",
       "375. 0.0815082323128978\n",
       "376. 0.850142717732711\n",
       "377. 0.65154051601397\n",
       "378. 0.182274787428033\n",
       "379. 0.834826752236515\n",
       "380. 0.138145666749797\n",
       "381. 0.212628505177618\n",
       "382. 0.951300758960516\n",
       "383. 0.276624712861285\n",
       "384. 0.0714220147341326\n",
       "385. 0.923154488965137\n",
       "386. 0.0317485327620461\n",
       "387. 0.206059150674804\n",
       "388. 0.964691645888907\n",
       "389. 0.0285155480632838\n",
       "390. 0.17835469740219\n",
       "391. 0.933207173029494\n",
       "392. 0.136928508620427\n",
       "393. 0.324609965992637\n",
       "394. 0.947269299484436\n",
       "395. 0.0424668507481188\n",
       "396. 0.101480549652111\n",
       "397. 0.921971940341169\n",
       "398. 0.0117532120008426\n",
       "399. 0.171395184269066\n",
       "400. 0.984035022850492\n",
       "401. 0.0279396502540293\n",
       "402. 0.126401904693723\n",
       "403. 0.994890328301164\n",
       "404. 0.015395071448979\n",
       "405. 0.0761627287715645\n",
       "406. 0.951471452705749\n",
       "407. 0.0380080084775715\n",
       "408. 0.109371457412184\n",
       "409. 0.82607496712968\n",
       "410. 0.0150336218487072\n",
       "411. 0.0785802623031754\n",
       "412. 0.975288724035633\n",
       "413. 0.0384183376937983\n",
       "414. 0.0477091654763255\n",
       "415. 0.903870409259715\n",
       "416. 0.0281152402793251\n",
       "417. 0.0966421217884387\n",
       "418. 0.98302931835382\n",
       "419. 0.0145872869636229\n",
       "420. 0.103131517454278\n",
       "421. 0.82917322289796\n",
       "422. 0.0234822027174269\n",
       "423. 0.141222236966759\n",
       "424. 0.934773466537057\n",
       "425. 0.0348607847943989\n",
       "426. 0.0759107782488767\n",
       "427. 0.816457141482825\n",
       "428. 0.0221282638008646\n",
       "429. 0.0780210210090557\n",
       "430. 1.94964062377845e+20\n",
       "431. 3.22543565545462e+21\n",
       "432. 2.86469335705797e+21\n",
       "433. 0.911753316585603\n",
       "434. 0.02761032085426\n",
       "435. 0.0638222982768\n",
       "436. 0.90723874937793\n",
       "437. 0.226823439594409\n",
       "438. 0.291204940366154\n",
       "439. 0.86311272014868\n",
       "440. 0.0153353397694086\n",
       "441. 0.0728365295750406\n",
       "442. 0.951942172295939\n",
       "443. 0.0318957274491823\n",
       "444. 0.105398238364994\n",
       "445. 0.906349871724535\n",
       "446. 0.0274584356111675\n",
       "447. 0.132650689557744\n",
       "448. 0.976044932966866\n",
       "449. 0.0149646292986775\n",
       "450. 0.070503320828654\n",
       "451. 0.993329316984663\n",
       "452. 0.0137399115891774\n",
       "453. 0.111109492183672\n",
       "454. 0.900458155640686\n",
       "455. 0.130410695150175\n",
       "456. 0.250064930272969\n",
       "457. 0.878360241542724\n",
       "458. 0.0211679496793695\n",
       "459. 0.0966772145357783\n",
       "460. 0.957602073833112\n",
       "461. 0.0314929107458059\n",
       "462. 0.0648091715343763\n",
       "463. 0.983891366238829\n",
       "464. 0.0349560189008018\n",
       "465. 0.0632482865835338\n",
       "466. 0.979198679583636\n",
       "467. 0.0180067825706722\n",
       "468. 0.0942085944845467\n",
       "469. 0.99045327944499\n",
       "470. 0.0286889858291621\n",
       "471. 0.0827310633548023\n",
       "472. 0.850223167389123\n",
       "473. 0.0286562888933106\n",
       "474. 0.0651305009140386\n",
       "475. 0.911632506964009\n",
       "476. 0.0168023936618863\n",
       "477. 0.129096615246903\n",
       "478. 0.915047913006762\n",
       "479. 0.0235933356743849\n",
       "480. 0.131704510724742\n",
       "481. 0.936423963253839\n",
       "482. 0.145643785646413\n",
       "483. 0.237198697062316\n",
       "484. 0.938586749846609\n",
       "485. 0.0138322955941227\n",
       "486. 0.0970841153966541\n",
       "487. 0.957375397043651\n",
       "488. 0.0168197741421664\n",
       "489. 0.16751941438119\n",
       "490. 0.999847223058813\n",
       "491. 0.0136703496191648\n",
       "492. 0.0733057995271509\n",
       "493. 0.930746679107229\n",
       "494. 0.0241974356681982\n",
       "495. 0.167560282131157\n",
       "496. 0.885672257473417\n",
       "497. 0.0233447161096214\n",
       "498. 0.094141974132622\n",
       "499. 0.975830169918844\n",
       "500. 0.0143320619203284\n",
       "501. 0.077277760737399\n",
       "502. 0.974568009913764\n",
       "503. 0.0166034875115909\n",
       "504. 0.0639107814343802\n",
       "505. 0.960149269933869\n",
       "506. 0.0295230518292569\n",
       "507. 0.0531569284876126\n",
       "508. 0.998806161278686\n",
       "509. 0.0258231037370487\n",
       "510. 0.109831234339764\n",
       "511. 0.99299852063237\n",
       "512. 0.0245236230862554\n",
       "513. 0.0621035247889225\n",
       "514. 0.947384089119237\n",
       "515. 0.0847919577770344\n",
       "516. 0.283405428565638\n",
       "517. 0.953632116061362\n",
       "518. 0.0167519346032227\n",
       "519. 0.0804843346963889\n",
       "520. 0.922174257056837\n",
       "521. 0.139440646021405\n",
       "522. 0.396218919457455\n",
       "523. 0.780048147010517\n",
       "524. 0.0255080678645493\n",
       "525. 0.134125511266023\n",
       "526. 0.991149419322026\n",
       "527. 0.0273454600805208\n",
       "528. 0.121501484193439\n",
       "529. 0.912357780229861\n",
       "530. 0.0204373183954625\n",
       "531. 0.0790825626735993\n",
       "532. 0.956889160696431\n",
       "533. 0.0327069194978068\n",
       "534. 0.186032804229726\n",
       "535. 0.996594382209154\n",
       "536. 26.2174775702655\n",
       "537. 1.39063704686565\n",
       "538. 0.791160107675966\n",
       "539. 0.164227435998044\n",
       "540. 0.127471788779426\n",
       "541. 0.881902257930637\n",
       "542. 0.00782720573740249\n",
       "543. 0.0437329977350062\n",
       "544. 0.937510518090033\n",
       "545. 0.024937236922649\n",
       "546. 0.0810483726555173\n",
       "547. 0.686588931175792\n",
       "548. 0.0233065647057356\n",
       "549. 0.163676966586926\n",
       "550. 0.925743502709692\n",
       "551. 0.0285501075433346\n",
       "552. 0.095898019793879\n",
       "553. 0.93310945463714\n",
       "554. 142.130826312594\n",
       "555. 21.1516960004224\n",
       "556. 0.902956654812379\n",
       "557. 0.0348482997926923\n",
       "558. 0.0942842074968483\n",
       "559. 0.934039497027172\n",
       "560. 0.0234752341740828\n",
       "561. 0.0878980992009016\n",
       "562. 0.906046691934327\n",
       "563. 0.0193350873881156\n",
       "564. 0.0634499675824451\n",
       "565. 0.951279756942334\n",
       "566. 0.117209561862745\n",
       "567. 0.133930892853171\n",
       "568. NA\n",
       "569. NA\n",
       "570. NA\n",
       "571. 0.9582644161477\n",
       "572. 0.0270780328496532\n",
       "573. 0.0481572533242312\n",
       "574. 0.999583311151359\n",
       "575. 0.495057417375354\n",
       "576. 0.0798102509072418\n",
       "577. 0.931117145675227\n",
       "578. 0.0296059368297775\n",
       "579. 0.091108831140116\n",
       "580. 0.948245298297447\n",
       "581. 0.0271456461995117\n",
       "582. 0.103313106277203\n",
       "583. 0.99935829934426\n",
       "584. 0.588168434400625\n",
       "585. 0.10588491418224\n",
       "586. 0.926864533487473\n",
       "587. 0.0388397380341369\n",
       "588. 0.142552047966536\n",
       "589. 0.876647433618218\n",
       "590. 0.0346558891077181\n",
       "591. 0.08451986680719\n",
       "592. 58.7619250496369\n",
       "593. 603.277473939205\n",
       "594. 522.356503517964\n",
       "595. 0.898929393897953\n",
       "596. 0.0458628992845646\n",
       "597. 0.106556872625606\n",
       "598. 0.987303877912735\n",
       "599. 0.033821744814644\n",
       "600. 0.120341140701998\n",
       "601. 0.96821485005391\n",
       "602. 0.0221799878190975\n",
       "603. 0.119859229463879\n",
       "604. 0.97873874635873\n",
       "605. 0.0213248477132342\n",
       "606. 0.131453430059473\n",
       "607. 0.961513160320733\n",
       "608. 0.0272080580272775\n",
       "609. 0.163590062259188\n",
       "610. 0.928360684860109\n",
       "611. 0.0532911977152303\n",
       "612. 0.0689091761924817\n",
       "613. 0.986369887444282\n",
       "614. 0.0216537117760828\n",
       "615. 0.0572458851153288\n",
       "616. 0.956496342603699\n",
       "617. 86.1380879577805\n",
       "618. 86.8006908516954\n",
       "619. 0.848795005339186\n",
       "620. 0.0242729412772689\n",
       "621. 0.082392045028441\n",
       "622. 0.894769675898532\n",
       "623. 0.0124577043269188\n",
       "624. 0.0320897803034933\n",
       "625. 0.960795028343565\n",
       "626. 0.0191473727716941\n",
       "627. 0.056774275816565\n",
       "628. 0.941528093553531\n",
       "629. 0.012071522539748\n",
       "630. 0.0537089759041369\n",
       "631. 0.979121251289657\n",
       "632. 0.0174653761925016\n",
       "633. 0.211364533411801\n",
       "634. 0.993962737199689\n",
       "635. 2251.59297334432\n",
       "636. 153.903819833729\n",
       "637. 138.591904559193\n",
       "638. 3789.12271665663\n",
       "639. 4633.0680957285\n",
       "640. 0.861525725003504\n",
       "641. 0.0178679138646988\n",
       "642. 0.0897310572066384\n",
       "643. 0.887671597527811\n",
       "644. 0.011022101350963\n",
       "645. 0.130713554192273\n",
       "646. 0.997319068718532\n",
       "647. 0.0119847680115556\n",
       "648. 0.209088021474856\n",
       "649. 0.783426972720364\n",
       "650. 0.0251427596084684\n",
       "651. 0.0925008578855635\n",
       "652. 0.968734145852544\n",
       "653. 0.0164997039888542\n",
       "654. 0.0849549392660756\n",
       "655. 1.18855828815027\n",
       "656. 0.0150732078179597\n",
       "657. 0.0829237838865052\n",
       "658. 0.920548482457223\n",
       "659. 0.0408985779406575\n",
       "660. 0.123150628260222\n",
       "661. 0.995417495484741\n",
       "662. 235034444066485216\n",
       "663. 49358.2451580189\n",
       "664. 0.926723936320962\n",
       "665. 0.0150731819489074\n",
       "666. 0.107423738033971\n",
       "667. 0.927281031236002\n",
       "668. 0.0365321626479882\n",
       "669. 0.0252256662322332\n",
       "670. 0.995273287328108\n",
       "671. 0.0507243344797432\n",
       "672. 0.0359514638389007\n",
       "673. 0.977782425734067\n",
       "674. 0.0173551400258894\n",
       "675. 0.099428368560961\n",
       "676. 0.984286631045884\n",
       "677. 0.0505580011491158\n",
       "678. 0.0753072651506992\n",
       "679. 0.97947588689555\n",
       "680. 0.0227112038451213\n",
       "681. 0.086652498884621\n",
       "682. 0.94562770621766\n",
       "683. 0.203230772246938\n",
       "684. 0.437745652380297\n",
       "685. 0.99026486718314\n",
       "686. 0.022898200583278\n",
       "687. 0.185264176639764\n",
       "688. 0.962299636416891\n",
       "689. 0.0221304402909233\n",
       "690. 0.0390728968507208\n",
       "691. 0.987766968987928\n",
       "692. 0.0331544830649012\n",
       "693. 0.243065293305516\n",
       "694. 0.934585030608052\n",
       "695. 0.0277445041602046\n",
       "696. 0.137644877295618\n",
       "697. 0.962816106596258\n",
       "698. 0.015753965835444\n",
       "699. 0.061508550850227\n",
       "700. 0.971776941487236\n",
       "701. 0.033953971397493\n",
       "702. 0.136242752441963\n",
       "703. 0.827660127386801\n",
       "704. 0.043399654144874\n",
       "705. 0.161822626468712\n",
       "706. 0.852828438016095\n",
       "707. 0.176528311055137\n",
       "708. 0.283094341194824\n",
       "709. 0.959765229351621\n",
       "710. 0.0477312152516832\n",
       "711. 0.147080679527076\n",
       "712. 1.00019972948445\n",
       "713. 0.0192441391516111\n",
       "714. 0.0791902376030164\n",
       "715. 0.960604455859583\n",
       "716. 0.0347811312377652\n",
       "717. 0.0996715383988131\n",
       "718. 0.99698646209194\n",
       "719. 0.0179916103793423\n",
       "720. 0.0900654435758158\n",
       "721. 26135.701083603\n",
       "722. 9018.1928260559\n",
       "723. 1054.03731848583\n",
       "724. 0.994404479183765\n",
       "725. 76119276448.9797\n",
       "726. 71023012925.0889\n",
       "727. 10547149647.9677\n",
       "728. 16056107948.9121\n",
       "729. 6134809298.10971\n",
       "730. 0.800983976287425\n",
       "731. 0.0420581242867358\n",
       "732. 0.136302202262595\n",
       "733. 64.1054346600621\n",
       "734. 729.340081420259\n",
       "735. 0.733706515776996\n",
       "736. 0.99526986690956\n",
       "737. 0.0329273534542183\n",
       "738. 0.0840352646067804\n",
       "739. 0.971253859474803\n",
       "740. 0.0191604615200132\n",
       "741. 0.0939183092450156\n",
       "742. 4.82139682661179\n",
       "743. 154.55126511606\n",
       "744. 0.71570846199247\n",
       "745. 0.990912911794689\n",
       "746. 0.0155051359663358\n",
       "747. 0.0830399267133149\n",
       "748. 0.789945513137224\n",
       "749. 0.0221105037750939\n",
       "750. 0.0869176150109726\n",
       "751. 0.997406436427347\n",
       "752. 0.0194887070547951\n",
       "753. 0.0730145099980748\n",
       "754. 0.908380325990561\n",
       "755. 0.260116817129698\n",
       "756. 0.335180268857387\n",
       "757. 0.985863275303447\n",
       "758. 0.793318363072421\n",
       "759. 0.704926612186483\n",
       "760. 0.985705737049638\n",
       "761. 0.0458008649672062\n",
       "762. 0.0706270889200137\n",
       "763. 22.7418345858321\n",
       "764. 0.127373903615718\n",
       "765. 0.118194609012234\n",
       "766. 0.98570411176232\n",
       "767. 0.0219024232472495\n",
       "768. 0.0896729374090535\n",
       "769. 0.913865221396697\n",
       "770. 0.151420430678028\n",
       "771. 0.343620225700665\n",
       "772. 0.982543113361717\n",
       "773. 0.383595736795522\n",
       "774. 0.48409850818146\n",
       "775. 0.951422058089496\n",
       "776. 0.0228604809378767\n",
       "777. 0.0532621591245411\n",
       "778. 0.973383555655145\n",
       "779. 552.942149963638\n",
       "780. 3.05158785368222\n",
       "781. 0.973565708585351\n",
       "782. 0.0215374396156771\n",
       "783. 0.0555874805577535\n",
       "784. 0.906441741038548\n",
       "785. 0.0137642886248878\n",
       "786. 0.0606894880333927\n",
       "787. 1.36608205935379\n",
       "788. 0.0236919684152811\n",
       "789. 0.0803273211001372\n",
       "790. 0.986349563691884\n",
       "791. 0.023102430684206\n",
       "792. 0.0628176842318473\n",
       "793. 0.874971052803026\n",
       "794. 0.691410664497322\n",
       "795. 0.637072301335774\n",
       "796. 1.05240472799463\n",
       "797. 0.294239446363329\n",
       "798. 0.166429086921532\n",
       "799. 0.967799623895155\n",
       "800. 0.0316372389315243\n",
       "801. 0.154488207143974\n",
       "802. 0.938776050234863\n",
       "803. 0.0313679175713801\n",
       "804. 0.108653164929804\n",
       "805. 0.885333976432152\n",
       "806. 0.0213851392371207\n",
       "807. 0.0726496571685291\n",
       "808. 0.943302977245191\n",
       "809. 0.0243441951752413\n",
       "810. 0.104955097183306\n",
       "811. 108917233957302656\n",
       "812. 1340622900095566336\n",
       "813. 1107097484772348800\n",
       "814. 0.874288904364717\n",
       "815. 0.0292432118925454\n",
       "816. 0.068025022910389\n",
       "817. 0.760233446892008\n",
       "818. 0.513665466730027\n",
       "819. 0.170436110640614\n",
       "820. 0.87628589395493\n",
       "821. 0.0232839667921096\n",
       "822. 0.127752134251528\n",
       "823. 0.85340234801579\n",
       "824. 0.136103697298652\n",
       "825. 0.250454702689933\n",
       "826. 0.681910564474821\n",
       "827. 0.0296346060993405\n",
       "828. 0.0698098301328527\n",
       "829. 0.924767712824763\n",
       "830. 0.778554813431315\n",
       "831. 0.0670298995482717\n",
       "832. 1.07430583878402\n",
       "833. 0.0321397842427848\n",
       "834. 0.0840289014406677\n",
       "835. 0.966130103912584\n",
       "836. 0.0242969427000963\n",
       "837. 0.0431749930171742\n",
       "838. 0.777021191136398\n",
       "839. 0.0182523980421038\n",
       "840. 0.134065845647921\n",
       "841. 0.988871087875844\n",
       "842. 0.0242331181979108\n",
       "843. 0.213187743232461\n",
       "844. 0.937915896561017\n",
       "845. 0.188622463924502\n",
       "846. 0.0895344326588986\n",
       "847. 0.853448058329443\n",
       "848. 0.0296916110926193\n",
       "849. 0.0932059247404404\n",
       "850. 0.719216253470487\n",
       "851. 0.502834777563861\n",
       "852. 0.0891816221817565\n",
       "853. 0.974247413264416\n",
       "854. 0.305967547170095\n",
       "855. 0.118421654019203\n",
       "856. 0.808182056824435\n",
       "857. 0.0304690216382833\n",
       "858. 0.0702798041434205\n",
       "859. 0.880867293306627\n",
       "860. 0.018874500345617\n",
       "861. 0.120481271080716\n",
       "862. 0.977316044001302\n",
       "863. 0.03763340311159\n",
       "864. 0.0851758470868024\n",
       "865. 0.933101056669086\n",
       "866. 0.0168940241928972\n",
       "867. 0.114071002597829\n",
       "868. 2.56026034712127\n",
       "869. 58.8562135427465\n",
       "870. 51.8296946672296\n",
       "871. 0.991338635330961\n",
       "872. 0.0363204996015597\n",
       "873. 0.0570922247365492\n",
       "874. 0.987117139793616\n",
       "875. 0.0263812845647705\n",
       "876. 0.143666677150405\n",
       "877. 0.84300821631881\n",
       "878. 0.016365231781217\n",
       "879. 0.135215284693172\n",
       "880. 0.998359075063903\n",
       "881. 2.65563735337946e+27\n",
       "882. 5.81147772574149e+22\n",
       "883. 0.828298686302208\n",
       "884. 0.0307423664428393\n",
       "885. 0.0879725396421835\n",
       "886. 6.26195287903439\n",
       "887. 25.7078141698332\n",
       "888. 6.4756001538189\n",
       "889. 1894.25464933876\n",
       "890. 20944.8622496909\n",
       "891. 752.579650815541\n",
       "892. 0.994769138919548\n",
       "893. 9.07449739071867\n",
       "894. 8.34509573250531\n",
       "895. 0.966481798488009\n",
       "896. 0.0220338375484959\n",
       "897. 0.0972774563385027\n",
       "898. 0.955593159171299\n",
       "899. 0.0226930878915429\n",
       "900. 0.113507028056021\n",
       "901. 0.921736970281188\n",
       "902. 0.0570952291865942\n",
       "903. 0.128942521177594\n",
       "904. 10.1042908529807\n",
       "905. 141.807516081809\n",
       "906. 558.770028605822\n",
       "907. 0.859810472753306\n",
       "908. 0.0196292858345329\n",
       "909. 0.138214156871164\n",
       "910. 0.63054041567139\n",
       "911. 0.0477521417056414\n",
       "912. 0.134785540666443\n",
       "913. 0.972724951221569\n",
       "914. 0.019224298385777\n",
       "915. 0.116358980695662\n",
       "916. 0.723190088921968\n",
       "917. 0.0226004733736384\n",
       "918. 0.131750261194179\n",
       "919. 0.965037056470285\n",
       "920. 0.0323237562031939\n",
       "921. 0.123948390705392\n",
       "922. 0.942191263753558\n",
       "923. 0.0311955159743242\n",
       "924. 0.112398809594091\n",
       "925. 0.981803200634979\n",
       "926. 0.0529447875220635\n",
       "927. 0.106386409599546\n",
       "\n",
       "\n"
      ],
      "text/plain": [
       "            143899     1068052   1273249    8556546   9015734    9112833  \n",
       "rotationGPS 0.90507288 0.9800007 0.94786493 0.9879506 0.99756838 0.7064281\n",
       "sog         0.04051823 0.0373633 0.02504716 0.0204861 0.01426987 0.2004593\n",
       "bathymetry3 0.07222461 0.1361383 0.13833957 0.1573309 0.08613052 0.6578512\n",
       "            9323720    9327610   9338113      9340467    ... 636091081 \n",
       "rotationGPS 0.99086315   405.394 9.914859e-01 0.92036438 ... 0.95559316\n",
       "sog         0.03222009 21604.340 4.583364e+04 0.01906311 ... 0.02269309\n",
       "bathymetry3 0.06687321 19057.872 4.041963e+04 0.06156089 ... 0.11350703\n",
       "            636091317  636091602 636091896  636091999  636092040 636092521 \n",
       "rotationGPS 0.92173697  10.10429 0.85981047 0.63054042 0.9727250 0.72319009\n",
       "sog         0.05709523 141.80752 0.01962929 0.04775214 0.0192243 0.02260047\n",
       "bathymetry3 0.12894252 558.77003 0.13821416 0.13478554 0.1163590 0.13175026\n",
       "            636092527  667001286  672247000 \n",
       "rotationGPS 0.96503706 0.94219126 0.98180320\n",
       "sog         0.03232376 0.03119552 0.05294479\n",
       "bathymetry3 0.12394839 0.11239881 0.10638641"
      ]
     },
     "metadata": {},
     "output_type": "display_data"
    }
   ],
   "source": [
    "nr"
   ]
  },
  {
   "cell_type": "code",
   "execution_count": 176,
   "metadata": {
    "ExecuteTime": {
     "end_time": "2017-06-01T16:00:32.130877",
     "start_time": "2017-06-01T14:00:32.105Z"
    }
   },
   "outputs": [],
   "source": [
    "nr[(nr > 10)] <- NA"
   ]
  },
  {
   "cell_type": "code",
   "execution_count": 180,
   "metadata": {
    "ExecuteTime": {
     "end_time": "2017-06-01T16:01:52.479597",
     "start_time": "2017-06-01T14:01:52.450Z"
    }
   },
   "outputs": [
    {
     "data": {
      "text/html": [
       "<dl class=dl-horizontal>\n",
       "\t<dt>rotationGPS</dt>\n",
       "\t\t<dd>0.959893857409876</dd>\n",
       "\t<dt>sog</dt>\n",
       "\t\t<dd>0.118884099998465</dd>\n",
       "\t<dt>bathymetry3</dt>\n",
       "\t\t<dd>0.218081080051205</dd>\n",
       "</dl>\n"
      ],
      "text/latex": [
       "\\begin{description*}\n",
       "\\item[rotationGPS] 0.959893857409876\n",
       "\\item[sog] 0.118884099998465\n",
       "\\item[bathymetry3] 0.218081080051205\n",
       "\\end{description*}\n"
      ],
      "text/markdown": [
       "rotationGPS\n",
       ":   0.959893857409876sog\n",
       ":   0.118884099998465bathymetry3\n",
       ":   0.218081080051205\n",
       "\n"
      ],
      "text/plain": [
       "rotationGPS         sog bathymetry3 \n",
       "  0.9598939   0.1188841   0.2180811 "
      ]
     },
     "metadata": {},
     "output_type": "display_data"
    }
   ],
   "source": [
    "rowMeans(nr, na.rm = TRUE)"
   ]
  },
  {
   "cell_type": "code",
   "execution_count": 131,
   "metadata": {
    "ExecuteTime": {
     "end_time": "2017-06-01T15:53:56.690937",
     "start_time": "2017-06-01T13:53:56.664Z"
    }
   },
   "outputs": [
    {
     "data": {
      "text/html": [
       "2.86483468833041e+24"
      ],
      "text/latex": [
       "2.86483468833041e+24"
      ],
      "text/markdown": [
       "2.86483468833041e+24"
      ],
      "text/plain": [
       "[1] 2.864835e+24"
      ]
     },
     "metadata": {},
     "output_type": "display_data"
    }
   ],
   "source": [
    "mean(nr)"
   ]
  },
  {
   "cell_type": "code",
   "execution_count": 113,
   "metadata": {
    "ExecuteTime": {
     "end_time": "2017-06-01T15:07:02.424898",
     "start_time": "2017-06-01T13:07:02.311Z"
    }
   },
   "outputs": [
    {
     "data": {
      "image/png": "[encoded data removed]",
      "text/plain": [
       "Plot with title \"Real vs 1-Step forecasted data\""
      ]
     },
     "metadata": {},
     "output_type": "display_data"
    }
   ],
   "source": [
    "plotForecast(fore[[4]],3)"
   ]
  },
  {
   "cell_type": "code",
   "execution_count": 23,
   "metadata": {
    "ExecuteTime": {
     "end_time": "2017-06-01T11:48:12.481018",
     "start_time": "2017-06-01T09:48:12.365Z"
    }
   },
   "outputs": [
    {
     "data": {
      "image/png": "[encoded data removed]",
      "text/plain": [
       "plot without title"
      ]
     },
     "metadata": {},
     "output_type": "display_data"
    }
   ],
   "source": [
    "plot(f[2,], type=\"l\", col=\"red\")\n",
    "lines(mod$model$DATA[2,], col=\"blue\")"
   ]
  }
 ],
 "metadata": {
  "jupytext": {
   "formats": "ipynb,r"
  },
  "kernelspec": {
   "display_name": "R",
   "language": "R",
   "name": "ir"
  },
  "language_info": {
   "codemirror_mode": "r",
   "file_extension": ".r",
   "mimetype": "text/x-r-source",
   "name": "R",
   "pygments_lexer": "r",
   "version": "3.5.2"
  },
  "toc": {
   "colors": {
    "hover_highlight": "#DAA520",
    "running_highlight": "#FF0000",
    "selected_highlight": "#FFD700"
   },
   "moveMenuLeft": true,
   "nav_menu": {
    "height": "194px",
    "width": "252px"
   },
   "navigate_menu": true,
   "number_sections": true,
   "sideBar": true,
   "threshold": 4,
   "toc_cell": false,
   "toc_position": {
    "height": "919px",
    "left": "0px",
    "right": "1559px",
    "top": "70px",
    "width": "201px"
   },
   "toc_section_display": "block",
   "toc_window_display": true,
   "widenNotebook": false
  }
 },
 "nbformat": 4,
 "nbformat_minor": 1
}
